{
 "cells": [
  {
   "cell_type": "markdown",
   "id": "b3c4977d",
   "metadata": {},
   "source": [
    "<h1>INTRODUCTION</h1>"
   ]
  },
  {
   "cell_type": "markdown",
   "id": "f9373d19",
   "metadata": {},
   "source": [
    "A company which is active in Big Data and Data Science wants to hire data scientists among people who successfully pass some courses which conduct by the company. Many people signup for their training. Company wants to know which of these candidates are really wants to work for the company after training or looking for a new employment because it helps to reduce the cost and time as well as the quality of training or planning the courses and categorization of candidates."
   ]
  },
  {
   "cell_type": "markdown",
   "id": "2018af73",
   "metadata": {},
   "source": [
    "This dataset designed to understand the factors that lead a person to leave current job for HR researches too. By model(s) that uses the current credentials,demographics,experience data you will predict the probability of a candidate to look for a new job or will work for the company, as well as interpreting affected factors on employee decision."
   ]
  },
  {
   "cell_type": "markdown",
   "id": "116860e5",
   "metadata": {},
   "source": [
    "<h1>IMPORTING LIBRARIES</h1>"
   ]
  },
  {
   "cell_type": "code",
   "execution_count": 1,
   "id": "9d6e2193",
   "metadata": {},
   "outputs": [],
   "source": [
    "# Data manipulation and plotting modules\n",
    "import numpy as np\n",
    "import pandas as pd\n",
    "\n",
    "\n",
    "# Data pre-processing\n",
    "from sklearn.preprocessing import StandardScaler as ss\n",
    "\n",
    "# Dimensionality reduction and noise removal\n",
    "from sklearn.decomposition import PCA\n",
    "\n",
    "# Data splitting and model parameter search\n",
    "from sklearn.model_selection import train_test_split\n",
    "from sklearn.model_selection import StratifiedKFold\n",
    "\n",
    "# Model pipelining\n",
    "from sklearn.pipeline import Pipeline\n",
    "from sklearn.pipeline import make_pipeline\n",
    "\n",
    "# Hyperparameter optimization\n",
    "from sklearn.model_selection import GridSearchCV\n",
    "from sklearn.model_selection import RandomizedSearchCV\n",
    "\n",
    "# Modeling module\n",
    "from xgboost.sklearn import XGBClassifier\n",
    "\n",
    "# Model evaluation metrics\n",
    "from sklearn.metrics import accuracy_score, f1_score\n",
    "from sklearn.metrics import plot_roc_curve\n",
    "from sklearn.metrics import confusion_matrix\n",
    "\n",
    "# Plotting Modules\n",
    "import matplotlib.pyplot as plt\n",
    "import seaborn as sns\n",
    "from xgboost import plot_importance\n",
    "\n",
    "# Permutation feature importance\n",
    "from sklearn.inspection import permutation_importance\n",
    "\n",
    "# Misc\n",
    "import time\n",
    "import os\n",
    "import gc\n",
    "import random\n",
    "\n",
    "# Used in Randomized parameter search\n",
    "from scipy.stats import uniform\n",
    "\n",
    "from IPython.core.interactiveshell import InteractiveShell\n",
    "InteractiveShell.ast_node_interactivity = \"all\"\n",
    "\n",
    "# Set option to dislay many rows\n",
    "pd.set_option('display.max_columns', 100)"
   ]
  },
  {
   "cell_type": "markdown",
   "id": "1a8505b8",
   "metadata": {},
   "source": [
    "<h1>DATA READING AND EXPLORATION</h1>"
   ]
  },
  {
   "cell_type": "code",
   "execution_count": 2,
   "id": "a324f956",
   "metadata": {},
   "outputs": [],
   "source": [
    "#Reading the file\n",
    "data = pd.read_csv(\"aug_train.csv\")"
   ]
  },
  {
   "cell_type": "code",
   "execution_count": 3,
   "id": "74e099ed",
   "metadata": {
    "scrolled": true
   },
   "outputs": [
    {
     "data": {
      "text/html": [
       "<div>\n",
       "<style scoped>\n",
       "    .dataframe tbody tr th:only-of-type {\n",
       "        vertical-align: middle;\n",
       "    }\n",
       "\n",
       "    .dataframe tbody tr th {\n",
       "        vertical-align: top;\n",
       "    }\n",
       "\n",
       "    .dataframe thead th {\n",
       "        text-align: right;\n",
       "    }\n",
       "</style>\n",
       "<table border=\"1\" class=\"dataframe\">\n",
       "  <thead>\n",
       "    <tr style=\"text-align: right;\">\n",
       "      <th></th>\n",
       "      <th>enrollee_id</th>\n",
       "      <th>city</th>\n",
       "      <th>city_development_index</th>\n",
       "      <th>gender</th>\n",
       "      <th>relevent_experience</th>\n",
       "      <th>enrolled_university</th>\n",
       "      <th>education_level</th>\n",
       "      <th>major_discipline</th>\n",
       "      <th>experience</th>\n",
       "      <th>company_size</th>\n",
       "      <th>company_type</th>\n",
       "      <th>last_new_job</th>\n",
       "      <th>training_hours</th>\n",
       "      <th>target</th>\n",
       "    </tr>\n",
       "  </thead>\n",
       "  <tbody>\n",
       "    <tr>\n",
       "      <th>0</th>\n",
       "      <td>8949</td>\n",
       "      <td>city_103</td>\n",
       "      <td>0.920</td>\n",
       "      <td>Male</td>\n",
       "      <td>Has relevent experience</td>\n",
       "      <td>no_enrollment</td>\n",
       "      <td>Graduate</td>\n",
       "      <td>STEM</td>\n",
       "      <td>&gt;20</td>\n",
       "      <td>NaN</td>\n",
       "      <td>NaN</td>\n",
       "      <td>1</td>\n",
       "      <td>36</td>\n",
       "      <td>1.0</td>\n",
       "    </tr>\n",
       "    <tr>\n",
       "      <th>1</th>\n",
       "      <td>29725</td>\n",
       "      <td>city_40</td>\n",
       "      <td>0.776</td>\n",
       "      <td>Male</td>\n",
       "      <td>No relevent experience</td>\n",
       "      <td>no_enrollment</td>\n",
       "      <td>Graduate</td>\n",
       "      <td>STEM</td>\n",
       "      <td>15</td>\n",
       "      <td>50-99</td>\n",
       "      <td>Pvt Ltd</td>\n",
       "      <td>&gt;4</td>\n",
       "      <td>47</td>\n",
       "      <td>0.0</td>\n",
       "    </tr>\n",
       "    <tr>\n",
       "      <th>2</th>\n",
       "      <td>11561</td>\n",
       "      <td>city_21</td>\n",
       "      <td>0.624</td>\n",
       "      <td>NaN</td>\n",
       "      <td>No relevent experience</td>\n",
       "      <td>Full time course</td>\n",
       "      <td>Graduate</td>\n",
       "      <td>STEM</td>\n",
       "      <td>5</td>\n",
       "      <td>NaN</td>\n",
       "      <td>NaN</td>\n",
       "      <td>never</td>\n",
       "      <td>83</td>\n",
       "      <td>0.0</td>\n",
       "    </tr>\n",
       "    <tr>\n",
       "      <th>3</th>\n",
       "      <td>33241</td>\n",
       "      <td>city_115</td>\n",
       "      <td>0.789</td>\n",
       "      <td>NaN</td>\n",
       "      <td>No relevent experience</td>\n",
       "      <td>NaN</td>\n",
       "      <td>Graduate</td>\n",
       "      <td>Business Degree</td>\n",
       "      <td>&lt;1</td>\n",
       "      <td>NaN</td>\n",
       "      <td>Pvt Ltd</td>\n",
       "      <td>never</td>\n",
       "      <td>52</td>\n",
       "      <td>1.0</td>\n",
       "    </tr>\n",
       "    <tr>\n",
       "      <th>4</th>\n",
       "      <td>666</td>\n",
       "      <td>city_162</td>\n",
       "      <td>0.767</td>\n",
       "      <td>Male</td>\n",
       "      <td>Has relevent experience</td>\n",
       "      <td>no_enrollment</td>\n",
       "      <td>Masters</td>\n",
       "      <td>STEM</td>\n",
       "      <td>&gt;20</td>\n",
       "      <td>50-99</td>\n",
       "      <td>Funded Startup</td>\n",
       "      <td>4</td>\n",
       "      <td>8</td>\n",
       "      <td>0.0</td>\n",
       "    </tr>\n",
       "  </tbody>\n",
       "</table>\n",
       "</div>"
      ],
      "text/plain": [
       "   enrollee_id      city  city_development_index gender  \\\n",
       "0         8949  city_103                   0.920   Male   \n",
       "1        29725   city_40                   0.776   Male   \n",
       "2        11561   city_21                   0.624    NaN   \n",
       "3        33241  city_115                   0.789    NaN   \n",
       "4          666  city_162                   0.767   Male   \n",
       "\n",
       "       relevent_experience enrolled_university education_level  \\\n",
       "0  Has relevent experience       no_enrollment        Graduate   \n",
       "1   No relevent experience       no_enrollment        Graduate   \n",
       "2   No relevent experience    Full time course        Graduate   \n",
       "3   No relevent experience                 NaN        Graduate   \n",
       "4  Has relevent experience       no_enrollment         Masters   \n",
       "\n",
       "  major_discipline experience company_size    company_type last_new_job  \\\n",
       "0             STEM        >20          NaN             NaN            1   \n",
       "1             STEM         15        50-99         Pvt Ltd           >4   \n",
       "2             STEM          5          NaN             NaN        never   \n",
       "3  Business Degree         <1          NaN         Pvt Ltd        never   \n",
       "4             STEM        >20        50-99  Funded Startup            4   \n",
       "\n",
       "   training_hours  target  \n",
       "0              36     1.0  \n",
       "1              47     0.0  \n",
       "2              83     0.0  \n",
       "3              52     1.0  \n",
       "4               8     0.0  "
      ]
     },
     "execution_count": 3,
     "metadata": {},
     "output_type": "execute_result"
    }
   ],
   "source": [
    "data.head()"
   ]
  },
  {
   "cell_type": "code",
   "execution_count": 4,
   "id": "e906f46d",
   "metadata": {},
   "outputs": [
    {
     "name": "stdout",
     "output_type": "stream",
     "text": [
      "\n",
      " Shape\n"
     ]
    },
    {
     "data": {
      "text/plain": [
       "(19158, 14)"
      ]
     },
     "execution_count": 4,
     "metadata": {},
     "output_type": "execute_result"
    }
   ],
   "source": [
    "# Exploring the data\n",
    "print(\"\\n Shape\")\n",
    "data.shape        "
   ]
  },
  {
   "cell_type": "code",
   "execution_count": 5,
   "id": "d0feb8dd",
   "metadata": {},
   "outputs": [
    {
     "name": "stdout",
     "output_type": "stream",
     "text": [
      "\n",
      "\n",
      " Columns\n"
     ]
    },
    {
     "data": {
      "text/plain": [
       "array(['enrollee_id', 'city', 'city_development_index', 'gender',\n",
       "       'relevent_experience', 'enrolled_university', 'education_level',\n",
       "       'major_discipline', 'experience', 'company_size', 'company_type',\n",
       "       'last_new_job', 'training_hours', 'target'], dtype=object)"
      ]
     },
     "execution_count": 5,
     "metadata": {},
     "output_type": "execute_result"
    },
    {
     "name": "stdout",
     "output_type": "stream",
     "text": [
      "\n",
      "\n"
     ]
    }
   ],
   "source": [
    "print(\"\\n\\n Columns\")\n",
    "data.columns.values      \n",
    "print(\"\\n\")          # Label column is of object type"
   ]
  },
  {
   "cell_type": "code",
   "execution_count": 6,
   "id": "65deb475",
   "metadata": {},
   "outputs": [
    {
     "name": "stdout",
     "output_type": "stream",
     "text": [
      "\n",
      "\n",
      "Target distribution\n"
     ]
    },
    {
     "data": {
      "text/plain": [
       "0.0    14381\n",
       "1.0     4777\n",
       "Name: target, dtype: int64"
      ]
     },
     "execution_count": 6,
     "metadata": {},
     "output_type": "execute_result"
    }
   ],
   "source": [
    "print(\"\\n\\nTarget distribution\")\n",
    "data.target.value_counts()"
   ]
  },
  {
   "cell_type": "code",
   "execution_count": 7,
   "id": "6b3845e7",
   "metadata": {},
   "outputs": [
    {
     "name": "stdout",
     "output_type": "stream",
     "text": [
      "\n",
      "\n",
      "Data types\n"
     ]
    },
    {
     "data": {
      "text/plain": [
       "object     10\n",
       "float64     2\n",
       "int64       2\n",
       "dtype: int64"
      ]
     },
     "execution_count": 7,
     "metadata": {},
     "output_type": "execute_result"
    }
   ],
   "source": [
    "print(\"\\n\\nData types\")                        \n",
    "data.dtypes.value_counts()"
   ]
  },
  {
   "cell_type": "code",
   "execution_count": 8,
   "id": "6e12cde0",
   "metadata": {},
   "outputs": [
    {
     "name": "stdout",
     "output_type": "stream",
     "text": [
      "\n",
      "\n"
     ]
    },
    {
     "data": {
      "text/html": [
       "<div>\n",
       "<style scoped>\n",
       "    .dataframe tbody tr th:only-of-type {\n",
       "        vertical-align: middle;\n",
       "    }\n",
       "\n",
       "    .dataframe tbody tr th {\n",
       "        vertical-align: top;\n",
       "    }\n",
       "\n",
       "    .dataframe thead th {\n",
       "        text-align: right;\n",
       "    }\n",
       "</style>\n",
       "<table border=\"1\" class=\"dataframe\">\n",
       "  <thead>\n",
       "    <tr style=\"text-align: right;\">\n",
       "      <th></th>\n",
       "      <th>enrollee_id</th>\n",
       "      <th>city</th>\n",
       "      <th>city_development_index</th>\n",
       "      <th>gender</th>\n",
       "      <th>relevent_experience</th>\n",
       "      <th>enrolled_university</th>\n",
       "      <th>education_level</th>\n",
       "      <th>major_discipline</th>\n",
       "      <th>experience</th>\n",
       "      <th>company_size</th>\n",
       "      <th>company_type</th>\n",
       "      <th>last_new_job</th>\n",
       "      <th>training_hours</th>\n",
       "      <th>target</th>\n",
       "    </tr>\n",
       "  </thead>\n",
       "  <tbody>\n",
       "    <tr>\n",
       "      <th>0</th>\n",
       "      <td>8949</td>\n",
       "      <td>city_103</td>\n",
       "      <td>0.920</td>\n",
       "      <td>Male</td>\n",
       "      <td>Has relevent experience</td>\n",
       "      <td>no_enrollment</td>\n",
       "      <td>Graduate</td>\n",
       "      <td>STEM</td>\n",
       "      <td>&gt;20</td>\n",
       "      <td>NaN</td>\n",
       "      <td>NaN</td>\n",
       "      <td>1</td>\n",
       "      <td>36</td>\n",
       "      <td>1.0</td>\n",
       "    </tr>\n",
       "    <tr>\n",
       "      <th>1</th>\n",
       "      <td>29725</td>\n",
       "      <td>city_40</td>\n",
       "      <td>0.776</td>\n",
       "      <td>Male</td>\n",
       "      <td>No relevent experience</td>\n",
       "      <td>no_enrollment</td>\n",
       "      <td>Graduate</td>\n",
       "      <td>STEM</td>\n",
       "      <td>15</td>\n",
       "      <td>50-99</td>\n",
       "      <td>Pvt Ltd</td>\n",
       "      <td>&gt;4</td>\n",
       "      <td>47</td>\n",
       "      <td>0.0</td>\n",
       "    </tr>\n",
       "    <tr>\n",
       "      <th>2</th>\n",
       "      <td>11561</td>\n",
       "      <td>city_21</td>\n",
       "      <td>0.624</td>\n",
       "      <td>NaN</td>\n",
       "      <td>No relevent experience</td>\n",
       "      <td>Full time course</td>\n",
       "      <td>Graduate</td>\n",
       "      <td>STEM</td>\n",
       "      <td>5</td>\n",
       "      <td>NaN</td>\n",
       "      <td>NaN</td>\n",
       "      <td>never</td>\n",
       "      <td>83</td>\n",
       "      <td>0.0</td>\n",
       "    </tr>\n",
       "    <tr>\n",
       "      <th>3</th>\n",
       "      <td>33241</td>\n",
       "      <td>city_115</td>\n",
       "      <td>0.789</td>\n",
       "      <td>NaN</td>\n",
       "      <td>No relevent experience</td>\n",
       "      <td>NaN</td>\n",
       "      <td>Graduate</td>\n",
       "      <td>Business Degree</td>\n",
       "      <td>&lt;1</td>\n",
       "      <td>NaN</td>\n",
       "      <td>Pvt Ltd</td>\n",
       "      <td>never</td>\n",
       "      <td>52</td>\n",
       "      <td>1.0</td>\n",
       "    </tr>\n",
       "    <tr>\n",
       "      <th>4</th>\n",
       "      <td>666</td>\n",
       "      <td>city_162</td>\n",
       "      <td>0.767</td>\n",
       "      <td>Male</td>\n",
       "      <td>Has relevent experience</td>\n",
       "      <td>no_enrollment</td>\n",
       "      <td>Masters</td>\n",
       "      <td>STEM</td>\n",
       "      <td>&gt;20</td>\n",
       "      <td>50-99</td>\n",
       "      <td>Funded Startup</td>\n",
       "      <td>4</td>\n",
       "      <td>8</td>\n",
       "      <td>0.0</td>\n",
       "    </tr>\n",
       "  </tbody>\n",
       "</table>\n",
       "</div>"
      ],
      "text/plain": [
       "   enrollee_id      city  city_development_index gender  \\\n",
       "0         8949  city_103                   0.920   Male   \n",
       "1        29725   city_40                   0.776   Male   \n",
       "2        11561   city_21                   0.624    NaN   \n",
       "3        33241  city_115                   0.789    NaN   \n",
       "4          666  city_162                   0.767   Male   \n",
       "\n",
       "       relevent_experience enrolled_university education_level  \\\n",
       "0  Has relevent experience       no_enrollment        Graduate   \n",
       "1   No relevent experience       no_enrollment        Graduate   \n",
       "2   No relevent experience    Full time course        Graduate   \n",
       "3   No relevent experience                 NaN        Graduate   \n",
       "4  Has relevent experience       no_enrollment         Masters   \n",
       "\n",
       "  major_discipline experience company_size    company_type last_new_job  \\\n",
       "0             STEM        >20          NaN             NaN            1   \n",
       "1             STEM         15        50-99         Pvt Ltd           >4   \n",
       "2             STEM          5          NaN             NaN        never   \n",
       "3  Business Degree         <1          NaN         Pvt Ltd        never   \n",
       "4             STEM        >20        50-99  Funded Startup            4   \n",
       "\n",
       "   training_hours  target  \n",
       "0              36     1.0  \n",
       "1              47     0.0  \n",
       "2              83     0.0  \n",
       "3              52     1.0  \n",
       "4               8     0.0  "
      ]
     },
     "execution_count": 8,
     "metadata": {},
     "output_type": "execute_result"
    }
   ],
   "source": [
    "print(\"\\n\")\n",
    "data.head()"
   ]
  },
  {
   "cell_type": "code",
   "execution_count": 9,
   "id": "11741bca",
   "metadata": {},
   "outputs": [
    {
     "data": {
      "text/html": [
       "<div>\n",
       "<style scoped>\n",
       "    .dataframe tbody tr th:only-of-type {\n",
       "        vertical-align: middle;\n",
       "    }\n",
       "\n",
       "    .dataframe tbody tr th {\n",
       "        vertical-align: top;\n",
       "    }\n",
       "\n",
       "    .dataframe thead th {\n",
       "        text-align: right;\n",
       "    }\n",
       "</style>\n",
       "<table border=\"1\" class=\"dataframe\">\n",
       "  <thead>\n",
       "    <tr style=\"text-align: right;\">\n",
       "      <th></th>\n",
       "      <th>enrollee_id</th>\n",
       "      <th>city_development_index</th>\n",
       "      <th>training_hours</th>\n",
       "      <th>target</th>\n",
       "    </tr>\n",
       "  </thead>\n",
       "  <tbody>\n",
       "    <tr>\n",
       "      <th>count</th>\n",
       "      <td>19158.000000</td>\n",
       "      <td>19158.000000</td>\n",
       "      <td>19158.000000</td>\n",
       "      <td>19158.000000</td>\n",
       "    </tr>\n",
       "    <tr>\n",
       "      <th>mean</th>\n",
       "      <td>16875.358179</td>\n",
       "      <td>0.828848</td>\n",
       "      <td>65.366896</td>\n",
       "      <td>0.249348</td>\n",
       "    </tr>\n",
       "    <tr>\n",
       "      <th>std</th>\n",
       "      <td>9616.292592</td>\n",
       "      <td>0.123362</td>\n",
       "      <td>60.058462</td>\n",
       "      <td>0.432647</td>\n",
       "    </tr>\n",
       "    <tr>\n",
       "      <th>min</th>\n",
       "      <td>1.000000</td>\n",
       "      <td>0.448000</td>\n",
       "      <td>1.000000</td>\n",
       "      <td>0.000000</td>\n",
       "    </tr>\n",
       "    <tr>\n",
       "      <th>25%</th>\n",
       "      <td>8554.250000</td>\n",
       "      <td>0.740000</td>\n",
       "      <td>23.000000</td>\n",
       "      <td>0.000000</td>\n",
       "    </tr>\n",
       "    <tr>\n",
       "      <th>50%</th>\n",
       "      <td>16982.500000</td>\n",
       "      <td>0.903000</td>\n",
       "      <td>47.000000</td>\n",
       "      <td>0.000000</td>\n",
       "    </tr>\n",
       "    <tr>\n",
       "      <th>75%</th>\n",
       "      <td>25169.750000</td>\n",
       "      <td>0.920000</td>\n",
       "      <td>88.000000</td>\n",
       "      <td>0.000000</td>\n",
       "    </tr>\n",
       "    <tr>\n",
       "      <th>max</th>\n",
       "      <td>33380.000000</td>\n",
       "      <td>0.949000</td>\n",
       "      <td>336.000000</td>\n",
       "      <td>1.000000</td>\n",
       "    </tr>\n",
       "  </tbody>\n",
       "</table>\n",
       "</div>"
      ],
      "text/plain": [
       "        enrollee_id  city_development_index  training_hours        target\n",
       "count  19158.000000            19158.000000    19158.000000  19158.000000\n",
       "mean   16875.358179                0.828848       65.366896      0.249348\n",
       "std     9616.292592                0.123362       60.058462      0.432647\n",
       "min        1.000000                0.448000        1.000000      0.000000\n",
       "25%     8554.250000                0.740000       23.000000      0.000000\n",
       "50%    16982.500000                0.903000       47.000000      0.000000\n",
       "75%    25169.750000                0.920000       88.000000      0.000000\n",
       "max    33380.000000                0.949000      336.000000      1.000000"
      ]
     },
     "execution_count": 9,
     "metadata": {},
     "output_type": "execute_result"
    }
   ],
   "source": [
    "# Examine data statistics\n",
    "data.describe()"
   ]
  },
  {
   "cell_type": "markdown",
   "id": "a2298e5a",
   "metadata": {},
   "source": [
    "<h1>DATA VISUALIZATION</h1>"
   ]
  },
  {
   "cell_type": "code",
   "execution_count": 10,
   "id": "edcf499a",
   "metadata": {},
   "outputs": [
    {
     "data": {
      "text/html": [
       "<div>\n",
       "<style scoped>\n",
       "    .dataframe tbody tr th:only-of-type {\n",
       "        vertical-align: middle;\n",
       "    }\n",
       "\n",
       "    .dataframe tbody tr th {\n",
       "        vertical-align: top;\n",
       "    }\n",
       "\n",
       "    .dataframe thead th {\n",
       "        text-align: right;\n",
       "    }\n",
       "</style>\n",
       "<table border=\"1\" class=\"dataframe\">\n",
       "  <thead>\n",
       "    <tr style=\"text-align: right;\">\n",
       "      <th></th>\n",
       "      <th>enrollee_id</th>\n",
       "      <th>city</th>\n",
       "      <th>city_development_index</th>\n",
       "      <th>gender</th>\n",
       "      <th>relevent_experience</th>\n",
       "      <th>enrolled_university</th>\n",
       "      <th>education_level</th>\n",
       "      <th>major_discipline</th>\n",
       "      <th>experience</th>\n",
       "      <th>company_size</th>\n",
       "      <th>company_type</th>\n",
       "      <th>last_new_job</th>\n",
       "      <th>training_hours</th>\n",
       "      <th>target</th>\n",
       "    </tr>\n",
       "  </thead>\n",
       "  <tbody>\n",
       "    <tr>\n",
       "      <th>0</th>\n",
       "      <td>8949</td>\n",
       "      <td>city_103</td>\n",
       "      <td>0.920</td>\n",
       "      <td>Male</td>\n",
       "      <td>Has relevent experience</td>\n",
       "      <td>no_enrollment</td>\n",
       "      <td>Graduate</td>\n",
       "      <td>STEM</td>\n",
       "      <td>&gt;20</td>\n",
       "      <td>NaN</td>\n",
       "      <td>NaN</td>\n",
       "      <td>1</td>\n",
       "      <td>36</td>\n",
       "      <td>1.0</td>\n",
       "    </tr>\n",
       "    <tr>\n",
       "      <th>1</th>\n",
       "      <td>29725</td>\n",
       "      <td>city_40</td>\n",
       "      <td>0.776</td>\n",
       "      <td>Male</td>\n",
       "      <td>No relevent experience</td>\n",
       "      <td>no_enrollment</td>\n",
       "      <td>Graduate</td>\n",
       "      <td>STEM</td>\n",
       "      <td>15</td>\n",
       "      <td>50-99</td>\n",
       "      <td>Pvt Ltd</td>\n",
       "      <td>&gt;4</td>\n",
       "      <td>47</td>\n",
       "      <td>0.0</td>\n",
       "    </tr>\n",
       "    <tr>\n",
       "      <th>2</th>\n",
       "      <td>11561</td>\n",
       "      <td>city_21</td>\n",
       "      <td>0.624</td>\n",
       "      <td>NaN</td>\n",
       "      <td>No relevent experience</td>\n",
       "      <td>Full time course</td>\n",
       "      <td>Graduate</td>\n",
       "      <td>STEM</td>\n",
       "      <td>5</td>\n",
       "      <td>NaN</td>\n",
       "      <td>NaN</td>\n",
       "      <td>never</td>\n",
       "      <td>83</td>\n",
       "      <td>0.0</td>\n",
       "    </tr>\n",
       "    <tr>\n",
       "      <th>3</th>\n",
       "      <td>33241</td>\n",
       "      <td>city_115</td>\n",
       "      <td>0.789</td>\n",
       "      <td>NaN</td>\n",
       "      <td>No relevent experience</td>\n",
       "      <td>NaN</td>\n",
       "      <td>Graduate</td>\n",
       "      <td>Business Degree</td>\n",
       "      <td>&lt;1</td>\n",
       "      <td>NaN</td>\n",
       "      <td>Pvt Ltd</td>\n",
       "      <td>never</td>\n",
       "      <td>52</td>\n",
       "      <td>1.0</td>\n",
       "    </tr>\n",
       "    <tr>\n",
       "      <th>4</th>\n",
       "      <td>666</td>\n",
       "      <td>city_162</td>\n",
       "      <td>0.767</td>\n",
       "      <td>Male</td>\n",
       "      <td>Has relevent experience</td>\n",
       "      <td>no_enrollment</td>\n",
       "      <td>Masters</td>\n",
       "      <td>STEM</td>\n",
       "      <td>&gt;20</td>\n",
       "      <td>50-99</td>\n",
       "      <td>Funded Startup</td>\n",
       "      <td>4</td>\n",
       "      <td>8</td>\n",
       "      <td>0.0</td>\n",
       "    </tr>\n",
       "  </tbody>\n",
       "</table>\n",
       "</div>"
      ],
      "text/plain": [
       "   enrollee_id      city  city_development_index gender  \\\n",
       "0         8949  city_103                   0.920   Male   \n",
       "1        29725   city_40                   0.776   Male   \n",
       "2        11561   city_21                   0.624    NaN   \n",
       "3        33241  city_115                   0.789    NaN   \n",
       "4          666  city_162                   0.767   Male   \n",
       "\n",
       "       relevent_experience enrolled_university education_level  \\\n",
       "0  Has relevent experience       no_enrollment        Graduate   \n",
       "1   No relevent experience       no_enrollment        Graduate   \n",
       "2   No relevent experience    Full time course        Graduate   \n",
       "3   No relevent experience                 NaN        Graduate   \n",
       "4  Has relevent experience       no_enrollment         Masters   \n",
       "\n",
       "  major_discipline experience company_size    company_type last_new_job  \\\n",
       "0             STEM        >20          NaN             NaN            1   \n",
       "1             STEM         15        50-99         Pvt Ltd           >4   \n",
       "2             STEM          5          NaN             NaN        never   \n",
       "3  Business Degree         <1          NaN         Pvt Ltd        never   \n",
       "4             STEM        >20        50-99  Funded Startup            4   \n",
       "\n",
       "   training_hours  target  \n",
       "0              36     1.0  \n",
       "1              47     0.0  \n",
       "2              83     0.0  \n",
       "3              52     1.0  \n",
       "4               8     0.0  "
      ]
     },
     "execution_count": 10,
     "metadata": {},
     "output_type": "execute_result"
    }
   ],
   "source": [
    "data.head()"
   ]
  },
  {
   "cell_type": "code",
   "execution_count": 11,
   "id": "4da70888",
   "metadata": {},
   "outputs": [
    {
     "data": {
      "text/plain": [
       "<Figure size 864x432 with 0 Axes>"
      ]
     },
     "execution_count": 11,
     "metadata": {},
     "output_type": "execute_result"
    },
    {
     "name": "stderr",
     "output_type": "stream",
     "text": [
      "C:\\ProgramData\\Anaconda3\\lib\\site-packages\\seaborn\\_decorators.py:36: FutureWarning: Pass the following variable as a keyword arg: x. From version 0.12, the only valid positional argument will be `data`, and passing other arguments without an explicit keyword will result in an error or misinterpretation.\n",
      "  warnings.warn(\n"
     ]
    },
    {
     "data": {
      "text/plain": [
       "<AxesSubplot:xlabel='gender', ylabel='count'>"
      ]
     },
     "execution_count": 11,
     "metadata": {},
     "output_type": "execute_result"
    },
    {
     "data": {
      "image/png": "[encoded data removed]",
      "text/plain": [
       "<Figure size 864x432 with 1 Axes>"
      ]
     },
     "metadata": {
      "needs_background": "light"
     },
     "output_type": "display_data"
    }
   ],
   "source": [
    "plt.figure(figsize=(12,6))\n",
    "sns.countplot(data['gender'])\n",
    "plt.show()                      # Displays the gender column in a countplot. Males are maximum in number, followed by females."
   ]
  },
  {
   "cell_type": "code",
   "execution_count": 12,
   "id": "efaa367c",
   "metadata": {},
   "outputs": [
    {
     "data": {
      "text/plain": [
       "<Figure size 1152x576 with 0 Axes>"
      ]
     },
     "execution_count": 12,
     "metadata": {},
     "output_type": "execute_result"
    },
    {
     "data": {
      "text/plain": [
       "([<matplotlib.patches.Wedge at 0x1d4c1382340>,\n",
       "  <matplotlib.patches.Wedge at 0x1d4c1382a30>],\n",
       " [Text(-0.7009217057341881, 0.8477669269502535, 'Has relevent experience'),\n",
       "  Text(0.700921705734188, -0.8477669269502536, 'No relevent experience')],\n",
       " [Text(-0.38232093040046616, 0.4624183237910473, '72.0%'),\n",
       "  Text(0.3823209304004661, -0.46241832379104736, '28.0%')])"
      ]
     },
     "execution_count": 12,
     "metadata": {},
     "output_type": "execute_result"
    },
    {
     "data": {
      "image/png": "[encoded data removed]",
      "text/plain": [
       "<Figure size 1152x576 with 1 Axes>"
      ]
     },
     "metadata": {},
     "output_type": "display_data"
    }
   ],
   "source": [
    "index=data['relevent_experience'].value_counts().index\n",
    "values=data['relevent_experience'].value_counts()\n",
    "plt.figure(figsize=(16,8))\n",
    "plt.pie(values,labels=index,autopct=\"%1.1f%%\",wedgeprops={'edgecolor':'black'})\n",
    "plt.show()\n",
    "\n",
    "# 72% of the people hold relevent experience while 28% don't have the relevent experience."
   ]
  },
  {
   "cell_type": "code",
   "execution_count": 13,
   "id": "319e260b",
   "metadata": {},
   "outputs": [
    {
     "data": {
      "text/plain": [
       "<Figure size 864x432 with 0 Axes>"
      ]
     },
     "execution_count": 13,
     "metadata": {},
     "output_type": "execute_result"
    },
    {
     "data": {
      "text/plain": [
       "<BarContainer object of 3 artists>"
      ]
     },
     "execution_count": 13,
     "metadata": {},
     "output_type": "execute_result"
    },
    {
     "data": {
      "text/plain": [
       "Text(0.5, 0, 'enrolled_university')"
      ]
     },
     "execution_count": 13,
     "metadata": {},
     "output_type": "execute_result"
    },
    {
     "data": {
      "text/plain": [
       "Text(0, 0.5, 'count')"
      ]
     },
     "execution_count": 13,
     "metadata": {},
     "output_type": "execute_result"
    },
    {
     "data": {
      "image/png": "[encoded data removed]",
      "text/plain": [
       "<Figure size 864x432 with 1 Axes>"
      ]
     },
     "metadata": {
      "needs_background": "light"
     },
     "output_type": "display_data"
    }
   ],
   "source": [
    "index=data['enrolled_university'].value_counts().index\n",
    "values=data['enrolled_university'].value_counts()\n",
    "plt.figure(figsize=(12,6))\n",
    "plt.bar(index, values, color ='maroon')\n",
    "plt.xlabel(\"enrolled_university\")\n",
    "plt.ylabel(\"count\")\n",
    "plt.show()"
   ]
  },
  {
   "cell_type": "code",
   "execution_count": 14,
   "id": "7b93f83d",
   "metadata": {},
   "outputs": [
    {
     "data": {
      "text/plain": [
       "<Figure size 1152x576 with 0 Axes>"
      ]
     },
     "execution_count": 14,
     "metadata": {},
     "output_type": "execute_result"
    },
    {
     "data": {
      "text/plain": [
       "([<matplotlib.patches.Wedge at 0x1d4c1c87370>,\n",
       "  <matplotlib.patches.Wedge at 0x1d4c1c87e50>,\n",
       "  <matplotlib.patches.Wedge at 0x1d4c1cae520>,\n",
       "  <matplotlib.patches.Wedge at 0x1d4c1caebb0>,\n",
       "  <matplotlib.patches.Wedge at 0x1d4c1cbe280>],\n",
       " [Text(-0.4058373664607044, 1.022397198736499, 'Graduate'),\n",
       "  Text(-0.09045906830596125, -1.0962742161344567, 'Masters'),\n",
       "  Text(0.919198372304279, -0.6042138299916382, 'High School'),\n",
       "  Text(1.0835690829723417, -0.18941500053184424, 'Phd'),\n",
       "  Text(1.0985274348514376, -0.056898812630149516, 'Primary School')],\n",
       " [Text(-0.22136583625129327, 0.5576711993108175, '62.0%'),\n",
       "  Text(-0.04934130998506976, -0.5979677542551581, '23.3%'),\n",
       "  Text(0.5013809303477885, -0.32957117999543895, '10.8%'),\n",
       "  Text(0.5910376816212772, -0.10331727301736957, '2.2%'),\n",
       "  Text(0.5991967826462385, -0.03103571598008155, '1.6%')])"
      ]
     },
     "execution_count": 14,
     "metadata": {},
     "output_type": "execute_result"
    },
    {
     "data": {
      "image/png": "[encoded data removed]",
      "text/plain": [
       "<Figure size 1152x576 with 1 Axes>"
      ]
     },
     "metadata": {},
     "output_type": "display_data"
    }
   ],
   "source": [
    "index=data['education_level'].value_counts().index\n",
    "values=data['education_level'].value_counts()\n",
    "plt.figure(figsize=(16,8))\n",
    "plt.pie(values,labels=index,autopct=\"%1.1f%%\",wedgeprops={'edgecolor':'black'})\n",
    "plt.show()\n",
    "\n",
    "# In terms of education, graduates are 62%, followed by masters at 23.3% and then high school."
   ]
  },
  {
   "cell_type": "code",
   "execution_count": 15,
   "id": "f8cb2d64",
   "metadata": {},
   "outputs": [
    {
     "data": {
      "text/plain": [
       "<Figure size 864x432 with 0 Axes>"
      ]
     },
     "execution_count": 15,
     "metadata": {},
     "output_type": "execute_result"
    },
    {
     "name": "stderr",
     "output_type": "stream",
     "text": [
      "C:\\ProgramData\\Anaconda3\\lib\\site-packages\\seaborn\\_decorators.py:36: FutureWarning: Pass the following variable as a keyword arg: x. From version 0.12, the only valid positional argument will be `data`, and passing other arguments without an explicit keyword will result in an error or misinterpretation.\n",
      "  warnings.warn(\n"
     ]
    },
    {
     "data": {
      "text/plain": [
       "<AxesSubplot:xlabel='major_discipline', ylabel='count'>"
      ]
     },
     "execution_count": 15,
     "metadata": {},
     "output_type": "execute_result"
    },
    {
     "data": {
      "image/png": "[encoded data removed]",
      "text/plain": [
       "<Figure size 864x432 with 1 Axes>"
      ]
     },
     "metadata": {
      "needs_background": "light"
     },
     "output_type": "display_data"
    },
    {
     "name": "stdout",
     "output_type": "stream",
     "text": [
      "STEM               14492\n",
      "Humanities           669\n",
      "Other                381\n",
      "Business Degree      327\n",
      "Arts                 253\n",
      "No Major             223\n",
      "Name: major_discipline, dtype: int64\n"
     ]
    }
   ],
   "source": [
    "plt.figure(figsize=(12,6))\n",
    "sns.countplot(data['major_discipline'])\n",
    "plt.show()\n",
    "print(data['major_discipline'].value_counts())\n",
    "\n",
    "# Majority of the people have STEM as their major discipline. (14492)\n",
    "# Humanities is far behind but is the second most major discipline with 669 people going for it."
   ]
  },
  {
   "cell_type": "code",
   "execution_count": 16,
   "id": "0fea331a",
   "metadata": {},
   "outputs": [
    {
     "data": {
      "text/plain": [
       "<Figure size 1296x720 with 0 Axes>"
      ]
     },
     "execution_count": 16,
     "metadata": {},
     "output_type": "execute_result"
    },
    {
     "data": {
      "text/plain": [
       "Text(0.5, 0, 'company_size')"
      ]
     },
     "execution_count": 16,
     "metadata": {},
     "output_type": "execute_result"
    },
    {
     "data": {
      "text/plain": [
       "([<matplotlib.patches.Wedge at 0x1d4c1d5cf10>,\n",
       "  <matplotlib.patches.Wedge at 0x1d4c1d6f5b0>,\n",
       "  <matplotlib.patches.Wedge at 0x1d4c1d6fc40>,\n",
       "  <matplotlib.patches.Wedge at 0x1d4c1d7a310>,\n",
       "  <matplotlib.patches.Wedge at 0x1d4c1d7a9a0>,\n",
       "  <matplotlib.patches.Wedge at 0x1d4c1d7afd0>,\n",
       "  <matplotlib.patches.Wedge at 0x1d4c1d89700>,\n",
       "  <matplotlib.patches.Wedge at 0x1d4c1d89d90>],\n",
       " [Text(0.817750779658451, 0.7357198259989979, '50-99'),\n",
       "  Text(-0.5326299410371724, 0.9624475808638818, '100-500'),\n",
       "  Text(-1.0996444155049456, -0.027967113701399513, '10000+'),\n",
       "  Text(-0.722015614515376, -0.8298755644046788, '10/49'),\n",
       "  Text(-0.0559162233231888, -1.098577887984858, '1000-4999'),\n",
       "  Text(0.5987374969714339, -0.9227748423750955, '<10'),\n",
       "  Text(0.9777226201664267, -0.504042139126182, '500-999'),\n",
       "  Text(1.090169663143779, -0.1467314061848377, '5000-9999')],\n",
       " [Text(0.4460458798137005, 0.40130172327218067, '23.3%'),\n",
       "  Text(-0.2905254223839122, 0.5249714077439355, '19.4%'),\n",
       "  Text(-0.5998060448208793, -0.015254789291672458, '15.3%'),\n",
       "  Text(-0.3938266988265687, -0.4526593987661883, '11.1%'),\n",
       "  Text(-0.030499758176284798, -0.5992243025371953, '10.0%'),\n",
       "  Text(0.3265840892571457, -0.5033317322045975, '9.9%'),\n",
       "  Text(0.5333032473635054, -0.27493207588700835, '6.6%'),\n",
       "  Text(0.5946379980784248, -0.08003531246445691, '4.3%')])"
      ]
     },
     "execution_count": 16,
     "metadata": {},
     "output_type": "execute_result"
    },
    {
     "data": {
      "image/png": "[encoded data removed]",
      "text/plain": [
       "<Figure size 1296x720 with 1 Axes>"
      ]
     },
     "metadata": {},
     "output_type": "display_data"
    }
   ],
   "source": [
    "index=data['company_size'].value_counts().index\n",
    "values=data['company_size'].value_counts()\n",
    "plt.figure(figsize=(18,10))\n",
    "plt.xlabel('company_size')\n",
    "plt.pie(values,labels=index,autopct=\"%1.1f%%\",wedgeprops={\"edgecolor\":\"black\"})\n",
    "plt.show()\n",
    "\n",
    "# Below pie chart shows that companies with lesser number of employees are more i.e 23.3% have only 50-99 employees"
   ]
  },
  {
   "cell_type": "code",
   "execution_count": 17,
   "id": "b04580a7",
   "metadata": {},
   "outputs": [
    {
     "data": {
      "text/plain": [
       "<Figure size 864x432 with 0 Axes>"
      ]
     },
     "execution_count": 17,
     "metadata": {},
     "output_type": "execute_result"
    },
    {
     "data": {
      "text/plain": [
       "<BarContainer object of 6 artists>"
      ]
     },
     "execution_count": 17,
     "metadata": {},
     "output_type": "execute_result"
    },
    {
     "data": {
      "text/plain": [
       "Text(0.5, 0, 'company_type')"
      ]
     },
     "execution_count": 17,
     "metadata": {},
     "output_type": "execute_result"
    },
    {
     "data": {
      "text/plain": [
       "Text(0, 0.5, 'count')"
      ]
     },
     "execution_count": 17,
     "metadata": {},
     "output_type": "execute_result"
    },
    {
     "data": {
      "image/png": "[encoded data removed]",
      "text/plain": [
       "<Figure size 864x432 with 1 Axes>"
      ]
     },
     "metadata": {
      "needs_background": "light"
     },
     "output_type": "display_data"
    }
   ],
   "source": [
    "index=data['company_type'].value_counts().index\n",
    "values=data['company_type'].value_counts()\n",
    "plt.figure(figsize=(12,6))\n",
    "plt.bar(index, values, color ='#01153E')\n",
    "plt.xlabel(\"company_type\")\n",
    "plt.ylabel(\"count\")\n",
    "plt.show()\n",
    "\n",
    "# Pvt. Ltd firms are in majority"
   ]
  },
  {
   "cell_type": "code",
   "execution_count": 18,
   "id": "8d820859",
   "metadata": {},
   "outputs": [
    {
     "data": {
      "text/plain": [
       "<Figure size 864x432 with 0 Axes>"
      ]
     },
     "execution_count": 18,
     "metadata": {},
     "output_type": "execute_result"
    },
    {
     "name": "stderr",
     "output_type": "stream",
     "text": [
      "C:\\ProgramData\\Anaconda3\\lib\\site-packages\\seaborn\\distributions.py:2557: FutureWarning: `distplot` is a deprecated function and will be removed in a future version. Please adapt your code to use either `displot` (a figure-level function with similar flexibility) or `histplot` (an axes-level function for histograms).\n",
      "  warnings.warn(msg, FutureWarning)\n"
     ]
    },
    {
     "data": {
      "text/plain": [
       "<AxesSubplot:xlabel='training_hours', ylabel='Density'>"
      ]
     },
     "execution_count": 18,
     "metadata": {},
     "output_type": "execute_result"
    },
    {
     "data": {
      "image/png": "[encoded data removed]",
      "text/plain": [
       "<Figure size 864x432 with 1 Axes>"
      ]
     },
     "metadata": {
      "needs_background": "light"
     },
     "output_type": "display_data"
    }
   ],
   "source": [
    "plt.figure(figsize=(12,6))\n",
    "sns.distplot(data['training_hours'],color='maroon')\n",
    "plt.show()"
   ]
  },
  {
   "cell_type": "markdown",
   "id": "bdaea655",
   "metadata": {},
   "source": [
    "<h1>COMPARING FEATURES WITH TARGET</h1>"
   ]
  },
  {
   "cell_type": "code",
   "execution_count": 19,
   "id": "283ca4eb",
   "metadata": {},
   "outputs": [
    {
     "data": {
      "text/plain": [
       "<Figure size 864x432 with 0 Axes>"
      ]
     },
     "execution_count": 19,
     "metadata": {},
     "output_type": "execute_result"
    },
    {
     "data": {
      "text/plain": [
       "<AxesSubplot:xlabel='gender', ylabel='count'>"
      ]
     },
     "execution_count": 19,
     "metadata": {},
     "output_type": "execute_result"
    },
    {
     "data": {
      "image/png": "[encoded data removed]",
      "text/plain": [
       "<Figure size 864x432 with 1 Axes>"
      ]
     },
     "metadata": {
      "needs_background": "light"
     },
     "output_type": "display_data"
    }
   ],
   "source": [
    "plt.figure(figsize=(12,6))\n",
    "sns.countplot(x=\"gender\",hue=\"target\",data=data,palette=['#3D1C02',\"#AAA602\"])\n",
    "plt.show()"
   ]
  },
  {
   "cell_type": "code",
   "execution_count": 20,
   "id": "dc8cf67c",
   "metadata": {},
   "outputs": [
    {
     "data": {
      "text/plain": [
       "<Figure size 864x432 with 0 Axes>"
      ]
     },
     "execution_count": 20,
     "metadata": {},
     "output_type": "execute_result"
    },
    {
     "data": {
      "text/plain": [
       "<AxesSubplot:xlabel='relevent_experience', ylabel='count'>"
      ]
     },
     "execution_count": 20,
     "metadata": {},
     "output_type": "execute_result"
    },
    {
     "data": {
      "image/png": "[encoded data removed]",
      "text/plain": [
       "<Figure size 864x432 with 1 Axes>"
      ]
     },
     "metadata": {
      "needs_background": "light"
     },
     "output_type": "display_data"
    }
   ],
   "source": [
    "plt.figure(figsize=(12,6))\n",
    "sns.countplot(x=\"relevent_experience\",hue=\"target\",data=data,palette=['#8C000F',\"#F0E68C\"])\n",
    "plt.show()"
   ]
  },
  {
   "cell_type": "code",
   "execution_count": 21,
   "id": "8e392088",
   "metadata": {},
   "outputs": [
    {
     "data": {
      "text/plain": [
       "<Figure size 864x432 with 0 Axes>"
      ]
     },
     "execution_count": 21,
     "metadata": {},
     "output_type": "execute_result"
    },
    {
     "data": {
      "text/plain": [
       "<AxesSubplot:xlabel='experience', ylabel='count'>"
      ]
     },
     "execution_count": 21,
     "metadata": {},
     "output_type": "execute_result"
    },
    {
     "data": {
      "image/png": "[encoded data removed]",
      "text/plain": [
       "<Figure size 864x432 with 1 Axes>"
      ]
     },
     "metadata": {
      "needs_background": "light"
     },
     "output_type": "display_data"
    }
   ],
   "source": [
    "plt.figure(figsize=(12,6))\n",
    "sns.countplot(x=\"experience\",hue=\"target\",data=data,palette=['#432371',\"#FAAE7B\"])\n",
    "plt.show()"
   ]
  },
  {
   "cell_type": "code",
   "execution_count": 22,
   "id": "f6a325f0",
   "metadata": {},
   "outputs": [
    {
     "data": {
      "text/plain": [
       "<Figure size 864x432 with 0 Axes>"
      ]
     },
     "execution_count": 22,
     "metadata": {},
     "output_type": "execute_result"
    },
    {
     "data": {
      "text/plain": [
       "<AxesSubplot:xlabel='company_size', ylabel='count'>"
      ]
     },
     "execution_count": 22,
     "metadata": {},
     "output_type": "execute_result"
    },
    {
     "data": {
      "image/png": "[encoded data removed]",
      "text/plain": [
       "<Figure size 864x432 with 1 Axes>"
      ]
     },
     "metadata": {
      "needs_background": "light"
     },
     "output_type": "display_data"
    }
   ],
   "source": [
    "plt.figure(figsize=(12,6))\n",
    "sns.countplot(x=\"company_size\",hue=\"target\",data=data,palette=['#054907',\"#D2691E\"])\n",
    "plt.show()"
   ]
  },
  {
   "cell_type": "code",
   "execution_count": 23,
   "id": "1cfeb11e",
   "metadata": {},
   "outputs": [
    {
     "data": {
      "text/plain": [
       "<Figure size 864x432 with 0 Axes>"
      ]
     },
     "execution_count": 23,
     "metadata": {},
     "output_type": "execute_result"
    },
    {
     "data": {
      "text/plain": [
       "<AxesSubplot:xlabel='company_type', ylabel='count'>"
      ]
     },
     "execution_count": 23,
     "metadata": {},
     "output_type": "execute_result"
    },
    {
     "data": {
      "image/png": "[encoded data removed]",
      "text/plain": [
       "<Figure size 864x432 with 1 Axes>"
      ]
     },
     "metadata": {
      "needs_background": "light"
     },
     "output_type": "display_data"
    }
   ],
   "source": [
    "plt.figure(figsize=(12,6))\n",
    "sns.countplot(x=\"company_type\",hue=\"target\",data=data,palette=['#580F41',\"#FFC0CB\"])\n",
    "plt.show()"
   ]
  },
  {
   "cell_type": "code",
   "execution_count": 24,
   "id": "8f1a6ea2",
   "metadata": {},
   "outputs": [
    {
     "data": {
      "text/plain": [
       "<Figure size 864x432 with 0 Axes>"
      ]
     },
     "execution_count": 24,
     "metadata": {},
     "output_type": "execute_result"
    },
    {
     "data": {
      "text/plain": [
       "<AxesSubplot:xlabel='last_new_job', ylabel='count'>"
      ]
     },
     "execution_count": 24,
     "metadata": {},
     "output_type": "execute_result"
    },
    {
     "data": {
      "image/png": "[encoded data removed]",
      "text/plain": [
       "<Figure size 864x432 with 1 Axes>"
      ]
     },
     "metadata": {
      "needs_background": "light"
     },
     "output_type": "display_data"
    }
   ],
   "source": [
    "plt.figure(figsize=(12,6))\n",
    "sns.countplot(x=\"last_new_job\",hue=\"target\",data=data,palette=['#6E750E',\"#E6DAA6\"])\n",
    "plt.show()"
   ]
  },
  {
   "cell_type": "markdown",
   "id": "26ed4c7a",
   "metadata": {},
   "source": [
    "<h1>IDENTIFYING STRUCTURE IN DATA</h1>"
   ]
  },
  {
   "cell_type": "code",
   "execution_count": 25,
   "id": "030cdf74",
   "metadata": {},
   "outputs": [],
   "source": [
    "data_st = data.sample(n=5000)"
   ]
  },
  {
   "cell_type": "code",
   "execution_count": 26,
   "id": "bfdc21e0",
   "metadata": {},
   "outputs": [],
   "source": [
    "data_st.drop(columns = ['enrollee_id', 'city'],inplace = True  )"
   ]
  },
  {
   "cell_type": "code",
   "execution_count": 27,
   "id": "b2af89ce",
   "metadata": {},
   "outputs": [
    {
     "data": {
      "text/html": [
       "<div>\n",
       "<style scoped>\n",
       "    .dataframe tbody tr th:only-of-type {\n",
       "        vertical-align: middle;\n",
       "    }\n",
       "\n",
       "    .dataframe tbody tr th {\n",
       "        vertical-align: top;\n",
       "    }\n",
       "\n",
       "    .dataframe thead th {\n",
       "        text-align: right;\n",
       "    }\n",
       "</style>\n",
       "<table border=\"1\" class=\"dataframe\">\n",
       "  <thead>\n",
       "    <tr style=\"text-align: right;\">\n",
       "      <th></th>\n",
       "      <th>city_development_index</th>\n",
       "      <th>gender</th>\n",
       "      <th>relevent_experience</th>\n",
       "      <th>enrolled_university</th>\n",
       "      <th>education_level</th>\n",
       "      <th>major_discipline</th>\n",
       "      <th>experience</th>\n",
       "      <th>company_size</th>\n",
       "      <th>company_type</th>\n",
       "      <th>last_new_job</th>\n",
       "      <th>training_hours</th>\n",
       "      <th>target</th>\n",
       "    </tr>\n",
       "  </thead>\n",
       "  <tbody>\n",
       "    <tr>\n",
       "      <th>1172</th>\n",
       "      <td>0.887</td>\n",
       "      <td>Female</td>\n",
       "      <td>No relevent experience</td>\n",
       "      <td>no_enrollment</td>\n",
       "      <td>Masters</td>\n",
       "      <td>STEM</td>\n",
       "      <td>5</td>\n",
       "      <td>50-99</td>\n",
       "      <td>Pvt Ltd</td>\n",
       "      <td>1</td>\n",
       "      <td>218</td>\n",
       "      <td>0.0</td>\n",
       "    </tr>\n",
       "    <tr>\n",
       "      <th>6781</th>\n",
       "      <td>0.794</td>\n",
       "      <td>NaN</td>\n",
       "      <td>No relevent experience</td>\n",
       "      <td>Part time course</td>\n",
       "      <td>Graduate</td>\n",
       "      <td>STEM</td>\n",
       "      <td>1</td>\n",
       "      <td>50-99</td>\n",
       "      <td>Pvt Ltd</td>\n",
       "      <td>1</td>\n",
       "      <td>9</td>\n",
       "      <td>0.0</td>\n",
       "    </tr>\n",
       "    <tr>\n",
       "      <th>34</th>\n",
       "      <td>0.910</td>\n",
       "      <td>Male</td>\n",
       "      <td>Has relevent experience</td>\n",
       "      <td>no_enrollment</td>\n",
       "      <td>Graduate</td>\n",
       "      <td>Business Degree</td>\n",
       "      <td>12</td>\n",
       "      <td>5000-9999</td>\n",
       "      <td>Pvt Ltd</td>\n",
       "      <td>3</td>\n",
       "      <td>145</td>\n",
       "      <td>0.0</td>\n",
       "    </tr>\n",
       "    <tr>\n",
       "      <th>1340</th>\n",
       "      <td>0.624</td>\n",
       "      <td>Male</td>\n",
       "      <td>Has relevent experience</td>\n",
       "      <td>no_enrollment</td>\n",
       "      <td>Graduate</td>\n",
       "      <td>STEM</td>\n",
       "      <td>5</td>\n",
       "      <td>50-99</td>\n",
       "      <td>Funded Startup</td>\n",
       "      <td>never</td>\n",
       "      <td>111</td>\n",
       "      <td>0.0</td>\n",
       "    </tr>\n",
       "    <tr>\n",
       "      <th>12412</th>\n",
       "      <td>0.740</td>\n",
       "      <td>Male</td>\n",
       "      <td>Has relevent experience</td>\n",
       "      <td>no_enrollment</td>\n",
       "      <td>Graduate</td>\n",
       "      <td>STEM</td>\n",
       "      <td>16</td>\n",
       "      <td>1000-4999</td>\n",
       "      <td>Pvt Ltd</td>\n",
       "      <td>&gt;4</td>\n",
       "      <td>49</td>\n",
       "      <td>0.0</td>\n",
       "    </tr>\n",
       "  </tbody>\n",
       "</table>\n",
       "</div>"
      ],
      "text/plain": [
       "       city_development_index  gender      relevent_experience  \\\n",
       "1172                    0.887  Female   No relevent experience   \n",
       "6781                    0.794     NaN   No relevent experience   \n",
       "34                      0.910    Male  Has relevent experience   \n",
       "1340                    0.624    Male  Has relevent experience   \n",
       "12412                   0.740    Male  Has relevent experience   \n",
       "\n",
       "      enrolled_university education_level major_discipline experience  \\\n",
       "1172        no_enrollment         Masters             STEM          5   \n",
       "6781     Part time course        Graduate             STEM          1   \n",
       "34          no_enrollment        Graduate  Business Degree         12   \n",
       "1340        no_enrollment        Graduate             STEM          5   \n",
       "12412       no_enrollment        Graduate             STEM         16   \n",
       "\n",
       "      company_size    company_type last_new_job  training_hours  target  \n",
       "1172         50-99         Pvt Ltd            1             218     0.0  \n",
       "6781         50-99         Pvt Ltd            1               9     0.0  \n",
       "34       5000-9999         Pvt Ltd            3             145     0.0  \n",
       "1340         50-99  Funded Startup        never             111     0.0  \n",
       "12412    1000-4999         Pvt Ltd           >4              49     0.0  "
      ]
     },
     "execution_count": 27,
     "metadata": {},
     "output_type": "execute_result"
    }
   ],
   "source": [
    "data_st.head()"
   ]
  },
  {
   "cell_type": "code",
   "execution_count": 28,
   "id": "a5a2c1f2",
   "metadata": {},
   "outputs": [
    {
     "data": {
      "text/html": [
       "<div>\n",
       "<style scoped>\n",
       "    .dataframe tbody tr th:only-of-type {\n",
       "        vertical-align: middle;\n",
       "    }\n",
       "\n",
       "    .dataframe tbody tr th {\n",
       "        vertical-align: top;\n",
       "    }\n",
       "\n",
       "    .dataframe thead th {\n",
       "        text-align: right;\n",
       "    }\n",
       "</style>\n",
       "<table border=\"1\" class=\"dataframe\">\n",
       "  <thead>\n",
       "    <tr style=\"text-align: right;\">\n",
       "      <th></th>\n",
       "      <th>city_development_index</th>\n",
       "      <th>training_hours</th>\n",
       "      <th>target</th>\n",
       "    </tr>\n",
       "  </thead>\n",
       "  <tbody>\n",
       "    <tr>\n",
       "      <th>1172</th>\n",
       "      <td>0.887</td>\n",
       "      <td>218</td>\n",
       "      <td>0.0</td>\n",
       "    </tr>\n",
       "    <tr>\n",
       "      <th>6781</th>\n",
       "      <td>0.794</td>\n",
       "      <td>9</td>\n",
       "      <td>0.0</td>\n",
       "    </tr>\n",
       "    <tr>\n",
       "      <th>34</th>\n",
       "      <td>0.910</td>\n",
       "      <td>145</td>\n",
       "      <td>0.0</td>\n",
       "    </tr>\n",
       "    <tr>\n",
       "      <th>1340</th>\n",
       "      <td>0.624</td>\n",
       "      <td>111</td>\n",
       "      <td>0.0</td>\n",
       "    </tr>\n",
       "    <tr>\n",
       "      <th>12412</th>\n",
       "      <td>0.740</td>\n",
       "      <td>49</td>\n",
       "      <td>0.0</td>\n",
       "    </tr>\n",
       "  </tbody>\n",
       "</table>\n",
       "</div>"
      ],
      "text/plain": [
       "       city_development_index  training_hours  target\n",
       "1172                    0.887             218     0.0\n",
       "6781                    0.794               9     0.0\n",
       "34                      0.910             145     0.0\n",
       "1340                    0.624             111     0.0\n",
       "12412                   0.740              49     0.0"
      ]
     },
     "execution_count": 28,
     "metadata": {},
     "output_type": "execute_result"
    },
    {
     "data": {
      "text/plain": [
       "(5000, 3)"
      ]
     },
     "execution_count": 28,
     "metadata": {},
     "output_type": "execute_result"
    },
    {
     "data": {
      "text/plain": [
       "Index(['city_development_index', 'training_hours', 'target'], dtype='object')"
      ]
     },
     "execution_count": 28,
     "metadata": {},
     "output_type": "execute_result"
    }
   ],
   "source": [
    "# Select only numeric columns for the purpose\n",
    "num_data = data_st.select_dtypes(include = ['float64', 'int64']).copy()\n",
    "num_data.head()\n",
    "num_data.shape      \n",
    "num_data.columns"
   ]
  },
  {
   "cell_type": "code",
   "execution_count": 29,
   "id": "da343392",
   "metadata": {},
   "outputs": [
    {
     "data": {
      "text/plain": [
       "Index(['city_development_index', 'gender', 'relevent_experience',\n",
       "       'enrolled_university', 'education_level', 'major_discipline',\n",
       "       'experience', 'company_size', 'company_type', 'last_new_job',\n",
       "       'training_hours', 'target'],\n",
       "      dtype='object')"
      ]
     },
     "execution_count": 29,
     "metadata": {},
     "output_type": "execute_result"
    }
   ],
   "source": [
    "data_st.columns"
   ]
  },
  {
   "cell_type": "code",
   "execution_count": 30,
   "id": "c09a1a3a",
   "metadata": {},
   "outputs": [],
   "source": [
    "# Columns in num_data that are either discrete (with few levels) or numeric\n",
    "\n",
    "cols=['city_development_index', 'gender',\n",
    "       'relevent_experience', 'enrolled_university', 'education_level',\n",
    "       'major_discipline', 'experience', 'company_size', 'company_type',\n",
    "       'last_new_job', 'training_hours', 'target' ]\n",
    "num_cols=['city_development_index', 'training_hours', 'target'] \n",
    "cat_cols=['gender', 'relevent_experience', 'enrolled_university', 'education_level',\n",
    "       'major_discipline', 'experience', 'company_size', 'company_type',\n",
    "       'last_new_job']"
   ]
  },
  {
   "cell_type": "code",
   "execution_count": 31,
   "id": "1827d75d",
   "metadata": {},
   "outputs": [],
   "source": [
    "# Create an instance of StandardScaler object\n",
    "ss=ss()"
   ]
  },
  {
   "cell_type": "code",
   "execution_count": 32,
   "id": "3162803a",
   "metadata": {},
   "outputs": [],
   "source": [
    "# Use fit and transform method\n",
    "nc = ss.fit_transform(num_data.loc[:,num_cols])"
   ]
  },
  {
   "cell_type": "code",
   "execution_count": 33,
   "id": "5dafb30f",
   "metadata": {},
   "outputs": [
    {
     "data": {
      "text/plain": [
       "(5000, 3)"
      ]
     },
     "execution_count": 33,
     "metadata": {},
     "output_type": "execute_result"
    }
   ],
   "source": [
    "nc.shape     "
   ]
  },
  {
   "cell_type": "code",
   "execution_count": 34,
   "id": "a3d13014",
   "metadata": {},
   "outputs": [
    {
     "data": {
      "text/html": [
       "<div>\n",
       "<style scoped>\n",
       "    .dataframe tbody tr th:only-of-type {\n",
       "        vertical-align: middle;\n",
       "    }\n",
       "\n",
       "    .dataframe tbody tr th {\n",
       "        vertical-align: top;\n",
       "    }\n",
       "\n",
       "    .dataframe thead th {\n",
       "        text-align: right;\n",
       "    }\n",
       "</style>\n",
       "<table border=\"1\" class=\"dataframe\">\n",
       "  <thead>\n",
       "    <tr style=\"text-align: right;\">\n",
       "      <th></th>\n",
       "      <th>city_development_index</th>\n",
       "      <th>training_hours</th>\n",
       "      <th>target</th>\n",
       "    </tr>\n",
       "  </thead>\n",
       "  <tbody>\n",
       "    <tr>\n",
       "      <th>0</th>\n",
       "      <td>0.446966</td>\n",
       "      <td>2.607551</td>\n",
       "      <td>-0.563184</td>\n",
       "    </tr>\n",
       "    <tr>\n",
       "      <th>1</th>\n",
       "      <td>-0.322048</td>\n",
       "      <td>-0.947937</td>\n",
       "      <td>-0.563184</td>\n",
       "    </tr>\n",
       "  </tbody>\n",
       "</table>\n",
       "</div>"
      ],
      "text/plain": [
       "   city_development_index  training_hours    target\n",
       "0                0.446966        2.607551 -0.563184\n",
       "1               -0.322048       -0.947937 -0.563184"
      ]
     },
     "execution_count": 34,
     "metadata": {},
     "output_type": "execute_result"
    }
   ],
   "source": [
    "# Transform numpy array back to pandas dataframe as we will be using pandas plotting functions\n",
    "\n",
    "nc = pd.DataFrame(nc, columns = num_cols)\n",
    "nc.head(2)"
   ]
  },
  {
   "cell_type": "code",
   "execution_count": 35,
   "id": "8986201b",
   "metadata": {},
   "outputs": [],
   "source": [
    "from sklearn.preprocessing import LabelEncoder\n",
    "le = LabelEncoder()\n",
    "for i in cat_cols:\n",
    "    nc[i] = le.fit_transform(data_st[i])"
   ]
  },
  {
   "cell_type": "code",
   "execution_count": 36,
   "id": "2f0123d4",
   "metadata": {},
   "outputs": [
    {
     "data": {
      "text/html": [
       "<div>\n",
       "<style scoped>\n",
       "    .dataframe tbody tr th:only-of-type {\n",
       "        vertical-align: middle;\n",
       "    }\n",
       "\n",
       "    .dataframe tbody tr th {\n",
       "        vertical-align: top;\n",
       "    }\n",
       "\n",
       "    .dataframe thead th {\n",
       "        text-align: right;\n",
       "    }\n",
       "</style>\n",
       "<table border=\"1\" class=\"dataframe\">\n",
       "  <thead>\n",
       "    <tr style=\"text-align: right;\">\n",
       "      <th></th>\n",
       "      <th>city_development_index</th>\n",
       "      <th>gender</th>\n",
       "      <th>relevent_experience</th>\n",
       "      <th>enrolled_university</th>\n",
       "      <th>education_level</th>\n",
       "      <th>major_discipline</th>\n",
       "      <th>experience</th>\n",
       "      <th>company_size</th>\n",
       "      <th>company_type</th>\n",
       "      <th>last_new_job</th>\n",
       "      <th>training_hours</th>\n",
       "      <th>target</th>\n",
       "    </tr>\n",
       "  </thead>\n",
       "  <tbody>\n",
       "    <tr>\n",
       "      <th>1172</th>\n",
       "      <td>0.887</td>\n",
       "      <td>Female</td>\n",
       "      <td>No relevent experience</td>\n",
       "      <td>no_enrollment</td>\n",
       "      <td>Masters</td>\n",
       "      <td>STEM</td>\n",
       "      <td>5</td>\n",
       "      <td>50-99</td>\n",
       "      <td>Pvt Ltd</td>\n",
       "      <td>1</td>\n",
       "      <td>218</td>\n",
       "      <td>0.0</td>\n",
       "    </tr>\n",
       "    <tr>\n",
       "      <th>6781</th>\n",
       "      <td>0.794</td>\n",
       "      <td>NaN</td>\n",
       "      <td>No relevent experience</td>\n",
       "      <td>Part time course</td>\n",
       "      <td>Graduate</td>\n",
       "      <td>STEM</td>\n",
       "      <td>1</td>\n",
       "      <td>50-99</td>\n",
       "      <td>Pvt Ltd</td>\n",
       "      <td>1</td>\n",
       "      <td>9</td>\n",
       "      <td>0.0</td>\n",
       "    </tr>\n",
       "    <tr>\n",
       "      <th>34</th>\n",
       "      <td>0.910</td>\n",
       "      <td>Male</td>\n",
       "      <td>Has relevent experience</td>\n",
       "      <td>no_enrollment</td>\n",
       "      <td>Graduate</td>\n",
       "      <td>Business Degree</td>\n",
       "      <td>12</td>\n",
       "      <td>5000-9999</td>\n",
       "      <td>Pvt Ltd</td>\n",
       "      <td>3</td>\n",
       "      <td>145</td>\n",
       "      <td>0.0</td>\n",
       "    </tr>\n",
       "    <tr>\n",
       "      <th>1340</th>\n",
       "      <td>0.624</td>\n",
       "      <td>Male</td>\n",
       "      <td>Has relevent experience</td>\n",
       "      <td>no_enrollment</td>\n",
       "      <td>Graduate</td>\n",
       "      <td>STEM</td>\n",
       "      <td>5</td>\n",
       "      <td>50-99</td>\n",
       "      <td>Funded Startup</td>\n",
       "      <td>never</td>\n",
       "      <td>111</td>\n",
       "      <td>0.0</td>\n",
       "    </tr>\n",
       "    <tr>\n",
       "      <th>12412</th>\n",
       "      <td>0.740</td>\n",
       "      <td>Male</td>\n",
       "      <td>Has relevent experience</td>\n",
       "      <td>no_enrollment</td>\n",
       "      <td>Graduate</td>\n",
       "      <td>STEM</td>\n",
       "      <td>16</td>\n",
       "      <td>1000-4999</td>\n",
       "      <td>Pvt Ltd</td>\n",
       "      <td>&gt;4</td>\n",
       "      <td>49</td>\n",
       "      <td>0.0</td>\n",
       "    </tr>\n",
       "  </tbody>\n",
       "</table>\n",
       "</div>"
      ],
      "text/plain": [
       "       city_development_index  gender      relevent_experience  \\\n",
       "1172                    0.887  Female   No relevent experience   \n",
       "6781                    0.794     NaN   No relevent experience   \n",
       "34                      0.910    Male  Has relevent experience   \n",
       "1340                    0.624    Male  Has relevent experience   \n",
       "12412                   0.740    Male  Has relevent experience   \n",
       "\n",
       "      enrolled_university education_level major_discipline experience  \\\n",
       "1172        no_enrollment         Masters             STEM          5   \n",
       "6781     Part time course        Graduate             STEM          1   \n",
       "34          no_enrollment        Graduate  Business Degree         12   \n",
       "1340        no_enrollment        Graduate             STEM          5   \n",
       "12412       no_enrollment        Graduate             STEM         16   \n",
       "\n",
       "      company_size    company_type last_new_job  training_hours  target  \n",
       "1172         50-99         Pvt Ltd            1             218     0.0  \n",
       "6781         50-99         Pvt Ltd            1               9     0.0  \n",
       "34       5000-9999         Pvt Ltd            3             145     0.0  \n",
       "1340         50-99  Funded Startup        never             111     0.0  \n",
       "12412    1000-4999         Pvt Ltd           >4              49     0.0  "
      ]
     },
     "execution_count": 36,
     "metadata": {},
     "output_type": "execute_result"
    }
   ],
   "source": [
    "data_st.head()"
   ]
  },
  {
   "cell_type": "code",
   "execution_count": 37,
   "id": "9f03d697",
   "metadata": {},
   "outputs": [
    {
     "data": {
      "text/plain": [
       "(5000, 12)"
      ]
     },
     "execution_count": 37,
     "metadata": {},
     "output_type": "execute_result"
    }
   ],
   "source": [
    "nc.shape"
   ]
  },
  {
   "cell_type": "code",
   "execution_count": 38,
   "id": "3781880e",
   "metadata": {},
   "outputs": [],
   "source": [
    "# Also create a dataframe from random data for comparison:\n",
    "\n",
    "rng = np.random.default_rng()\n",
    "nc_rand = pd.DataFrame(rng.normal(size = (5000,12)),\n",
    "                       columns = cols    # Assign column names, just like that\n",
    "                       )"
   ]
  },
  {
   "cell_type": "code",
   "execution_count": 39,
   "id": "6270792a",
   "metadata": {},
   "outputs": [
    {
     "data": {
      "text/plain": [
       "(5000, 12)"
      ]
     },
     "execution_count": 39,
     "metadata": {},
     "output_type": "execute_result"
    }
   ],
   "source": [
    "# Add/overwrite these columns also\n",
    "\n",
    "nc_rand['gender'] = np.random.randint(3,   size= (5000,))   # [0,1]\n",
    "nc_rand['relevent_experience'] = np.random.randint(2, size= (5000,))   # [1,2,3]\n",
    "nc_rand['enrolled_university'] = np.random.randint(3,  size= (5000,))   # [0 to 23]\n",
    "nc_rand['education_level'] = np.random.randint(5,   size= (5000,))   # [0 to 6]\n",
    "nc_rand['major_discipline'] = np.random.randint(6,   size= (5000,))   # [0,1]\n",
    "nc_rand['experience'] = np.random.randint(22,   size= (5000,))   # [0,1]\n",
    "nc_rand['company_size'] = np.random.randint(8, size= (5000,))   # [1,2,3]\n",
    "nc_rand['company_type'] = np.random.randint(6,  size= (5000,))   # [0 to 23]\n",
    "nc_rand['last_new_job'] = np.random.randint(6,   size= (5000,))   # [0 to 6]\n",
    "\n",
    "nc_rand.shape"
   ]
  },
  {
   "cell_type": "code",
   "execution_count": 40,
   "id": "dff19813",
   "metadata": {},
   "outputs": [],
   "source": [
    "# Radviz Plot"
   ]
  },
  {
   "cell_type": "code",
   "execution_count": 41,
   "id": "32e37150",
   "metadata": {},
   "outputs": [
    {
     "data": {
      "text/plain": [
       "<AxesSubplot:>"
      ]
     },
     "execution_count": 41,
     "metadata": {},
     "output_type": "execute_result"
    },
    {
     "data": {
      "image/png": "[encoded data removed]",
      "text/plain": [
       "<Figure size 432x288 with 1 Axes>"
      ]
     },
     "metadata": {
      "needs_background": "light"
     },
     "output_type": "display_data"
    }
   ],
   "source": [
    "# 7.0 Radviz plot\n",
    "# https://pandas.pydata.org/docs/reference/api/pandas.plotting.radviz.html\n",
    "\n",
    "fig5 = plt.figure()\n",
    "pd.plotting.radviz(nc,\n",
    "                   class_column ='target',\n",
    "                   colormap= plt.cm.winter,\n",
    "                   alpha = 0.4\n",
    "                   )"
   ]
  },
  {
   "cell_type": "code",
   "execution_count": 42,
   "id": "ac2fae34",
   "metadata": {},
   "outputs": [],
   "source": [
    "# t-sne"
   ]
  },
  {
   "cell_type": "code",
   "execution_count": 43,
   "id": "70547325",
   "metadata": {},
   "outputs": [],
   "source": [
    "# See the power of t-sne (t-distributed Stochastic Neighbor Embedding)\n",
    "\n",
    "from sklearn.manifold import TSNE"
   ]
  },
  {
   "cell_type": "code",
   "execution_count": 44,
   "id": "26621361",
   "metadata": {},
   "outputs": [
    {
     "data": {
      "text/plain": [
       "(5000, 2)"
      ]
     },
     "execution_count": 44,
     "metadata": {},
     "output_type": "execute_result"
    },
    {
     "data": {
      "text/plain": [
       "<seaborn.axisgrid.FacetGrid at 0x1d4c2bb2820>"
      ]
     },
     "execution_count": 44,
     "metadata": {},
     "output_type": "execute_result"
    },
    {
     "data": {
      "image/png": "[encoded data removed]",
      "text/plain": [
       "<Figure size 420.375x360 with 1 Axes>"
      ]
     },
     "metadata": {
      "needs_background": "light"
     },
     "output_type": "display_data"
    }
   ],
   "source": [
    "X_embedded = TSNE(n_components=2).fit_transform(nc_rand.iloc[:,:-1])\n",
    "X_embedded.shape   \n",
    "df = pd.DataFrame(X_embedded, columns=['X','Y'])\n",
    "\n",
    "# 11.5.2 No two plots will be the same\n",
    "sns.relplot(x = \"X\",\n",
    "            y = \"Y\",\n",
    "            hue = nc_rand.target,    \n",
    "            data = df\n",
    "            )"
   ]
  },
  {
   "cell_type": "code",
   "execution_count": 45,
   "id": "227cdfd0",
   "metadata": {},
   "outputs": [
    {
     "data": {
      "text/plain": [
       "(5000, 2)"
      ]
     },
     "execution_count": 45,
     "metadata": {},
     "output_type": "execute_result"
    },
    {
     "data": {
      "text/plain": [
       "<seaborn.axisgrid.FacetGrid at 0x1d4c2bb26a0>"
      ]
     },
     "execution_count": 45,
     "metadata": {},
     "output_type": "execute_result"
    },
    {
     "data": {
      "image/png": "[encoded data removed]",
      "text/plain": [
       "<Figure size 511.25x360 with 1 Axes>"
      ]
     },
     "metadata": {
      "needs_background": "light"
     },
     "output_type": "display_data"
    }
   ],
   "source": [
    "# Project all data but 'target' on two axis\n",
    "\n",
    "X_embedded = TSNE(n_components=2).fit_transform(nc.iloc[:,:-1])\n",
    "X_embedded.shape    # (1000,2), numpy array\n",
    "df = pd.DataFrame(X_embedded, columns=['X','Y'])\n",
    "\n",
    "# 1No two plots will be the same\n",
    "sns.relplot(x = \"X\",\n",
    "            y = \"Y\",\n",
    "            hue = nc.target,   \n",
    "            data = df\n",
    "            )"
   ]
  },
  {
   "cell_type": "markdown",
   "id": "69570121",
   "metadata": {},
   "source": [
    "<h1>FEATURE PREPARATION</h1>"
   ]
  },
  {
   "cell_type": "code",
   "execution_count": 46,
   "id": "30dc6e49",
   "metadata": {},
   "outputs": [],
   "source": [
    "# We do not enrollee_Id column and city column\n",
    "data.drop(columns = ['enrollee_id', 'city'],inplace = True  )"
   ]
  },
  {
   "cell_type": "code",
   "execution_count": 47,
   "id": "e88d4a72",
   "metadata": {},
   "outputs": [
    {
     "data": {
      "text/html": [
       "<div>\n",
       "<style scoped>\n",
       "    .dataframe tbody tr th:only-of-type {\n",
       "        vertical-align: middle;\n",
       "    }\n",
       "\n",
       "    .dataframe tbody tr th {\n",
       "        vertical-align: top;\n",
       "    }\n",
       "\n",
       "    .dataframe thead th {\n",
       "        text-align: right;\n",
       "    }\n",
       "</style>\n",
       "<table border=\"1\" class=\"dataframe\">\n",
       "  <thead>\n",
       "    <tr style=\"text-align: right;\">\n",
       "      <th></th>\n",
       "      <th>city_development_index</th>\n",
       "      <th>gender</th>\n",
       "      <th>relevent_experience</th>\n",
       "      <th>enrolled_university</th>\n",
       "      <th>education_level</th>\n",
       "      <th>major_discipline</th>\n",
       "      <th>experience</th>\n",
       "      <th>company_size</th>\n",
       "      <th>company_type</th>\n",
       "      <th>last_new_job</th>\n",
       "      <th>training_hours</th>\n",
       "    </tr>\n",
       "  </thead>\n",
       "  <tbody>\n",
       "    <tr>\n",
       "      <th>0</th>\n",
       "      <td>0.920</td>\n",
       "      <td>Male</td>\n",
       "      <td>Has relevent experience</td>\n",
       "      <td>no_enrollment</td>\n",
       "      <td>Graduate</td>\n",
       "      <td>STEM</td>\n",
       "      <td>&gt;20</td>\n",
       "      <td>NaN</td>\n",
       "      <td>NaN</td>\n",
       "      <td>1</td>\n",
       "      <td>36</td>\n",
       "    </tr>\n",
       "    <tr>\n",
       "      <th>1</th>\n",
       "      <td>0.776</td>\n",
       "      <td>Male</td>\n",
       "      <td>No relevent experience</td>\n",
       "      <td>no_enrollment</td>\n",
       "      <td>Graduate</td>\n",
       "      <td>STEM</td>\n",
       "      <td>15</td>\n",
       "      <td>50-99</td>\n",
       "      <td>Pvt Ltd</td>\n",
       "      <td>&gt;4</td>\n",
       "      <td>47</td>\n",
       "    </tr>\n",
       "    <tr>\n",
       "      <th>2</th>\n",
       "      <td>0.624</td>\n",
       "      <td>NaN</td>\n",
       "      <td>No relevent experience</td>\n",
       "      <td>Full time course</td>\n",
       "      <td>Graduate</td>\n",
       "      <td>STEM</td>\n",
       "      <td>5</td>\n",
       "      <td>NaN</td>\n",
       "      <td>NaN</td>\n",
       "      <td>never</td>\n",
       "      <td>83</td>\n",
       "    </tr>\n",
       "    <tr>\n",
       "      <th>3</th>\n",
       "      <td>0.789</td>\n",
       "      <td>NaN</td>\n",
       "      <td>No relevent experience</td>\n",
       "      <td>NaN</td>\n",
       "      <td>Graduate</td>\n",
       "      <td>Business Degree</td>\n",
       "      <td>&lt;1</td>\n",
       "      <td>NaN</td>\n",
       "      <td>Pvt Ltd</td>\n",
       "      <td>never</td>\n",
       "      <td>52</td>\n",
       "    </tr>\n",
       "    <tr>\n",
       "      <th>4</th>\n",
       "      <td>0.767</td>\n",
       "      <td>Male</td>\n",
       "      <td>Has relevent experience</td>\n",
       "      <td>no_enrollment</td>\n",
       "      <td>Masters</td>\n",
       "      <td>STEM</td>\n",
       "      <td>&gt;20</td>\n",
       "      <td>50-99</td>\n",
       "      <td>Funded Startup</td>\n",
       "      <td>4</td>\n",
       "      <td>8</td>\n",
       "    </tr>\n",
       "  </tbody>\n",
       "</table>\n",
       "</div>"
      ],
      "text/plain": [
       "   city_development_index gender      relevent_experience enrolled_university  \\\n",
       "0                   0.920   Male  Has relevent experience       no_enrollment   \n",
       "1                   0.776   Male   No relevent experience       no_enrollment   \n",
       "2                   0.624    NaN   No relevent experience    Full time course   \n",
       "3                   0.789    NaN   No relevent experience                 NaN   \n",
       "4                   0.767   Male  Has relevent experience       no_enrollment   \n",
       "\n",
       "  education_level major_discipline experience company_size    company_type  \\\n",
       "0        Graduate             STEM        >20          NaN             NaN   \n",
       "1        Graduate             STEM         15        50-99         Pvt Ltd   \n",
       "2        Graduate             STEM          5          NaN             NaN   \n",
       "3        Graduate  Business Degree         <1          NaN         Pvt Ltd   \n",
       "4         Masters             STEM        >20        50-99  Funded Startup   \n",
       "\n",
       "  last_new_job  training_hours  \n",
       "0            1              36  \n",
       "1           >4              47  \n",
       "2        never              83  \n",
       "3        never              52  \n",
       "4            4               8  "
      ]
     },
     "execution_count": 47,
     "metadata": {},
     "output_type": "execute_result"
    },
    {
     "name": "stdout",
     "output_type": "stream",
     "text": [
      "\n",
      "\n",
      "Target,y, values\n"
     ]
    },
    {
     "data": {
      "text/plain": [
       "0    1.0\n",
       "1    0.0\n",
       "2    0.0\n",
       "3    1.0\n",
       "4    0.0\n",
       "Name: target, dtype: float64"
      ]
     },
     "execution_count": 47,
     "metadata": {},
     "output_type": "execute_result"
    }
   ],
   "source": [
    "# Divide data into predictors and target\n",
    "# First 11 columns are predictors\n",
    "\n",
    "X = data.iloc[ :, 0:11]\n",
    "X.head()\n",
    "\n",
    "# 12th column is target\n",
    "print(\"\\n\\nTarget,y, values\")\n",
    "y = data.iloc[ : , 11]\n",
    "y.head()"
   ]
  },
  {
   "cell_type": "code",
   "execution_count": 48,
   "id": "390d953f",
   "metadata": {},
   "outputs": [
    {
     "data": {
      "text/plain": [
       "Index(['city_development_index', 'gender', 'relevent_experience',\n",
       "       'enrolled_university', 'education_level', 'major_discipline',\n",
       "       'experience', 'company_size', 'company_type', 'last_new_job',\n",
       "       'training_hours', 'target'],\n",
       "      dtype='object')"
      ]
     },
     "execution_count": 48,
     "metadata": {},
     "output_type": "execute_result"
    }
   ],
   "source": [
    "data.columns"
   ]
  },
  {
   "cell_type": "code",
   "execution_count": 49,
   "id": "c660c24c",
   "metadata": {},
   "outputs": [],
   "source": [
    "# Dividing the columns into categorical and numerical columns\n",
    "\n",
    "num_cols = ['city_development_index']\n",
    "cat_cols = ['gender', 'relevent_experience',\n",
    "       'enrolled_university', 'education_level', 'major_discipline',\n",
    "       'experience', 'company_size', 'company_type', 'last_new_job',\n",
    "       'training_hours']"
   ]
  },
  {
   "cell_type": "code",
   "execution_count": 50,
   "id": "c334ea6a",
   "metadata": {},
   "outputs": [],
   "source": [
    "from sklearn.preprocessing import LabelEncoder\n",
    "le = LabelEncoder()\n",
    "X[cat_cols] = X[cat_cols].apply(le.fit_transform)"
   ]
  },
  {
   "cell_type": "code",
   "execution_count": 51,
   "id": "f50f152c",
   "metadata": {},
   "outputs": [
    {
     "data": {
      "text/html": [
       "<div>\n",
       "<style scoped>\n",
       "    .dataframe tbody tr th:only-of-type {\n",
       "        vertical-align: middle;\n",
       "    }\n",
       "\n",
       "    .dataframe tbody tr th {\n",
       "        vertical-align: top;\n",
       "    }\n",
       "\n",
       "    .dataframe thead th {\n",
       "        text-align: right;\n",
       "    }\n",
       "</style>\n",
       "<table border=\"1\" class=\"dataframe\">\n",
       "  <thead>\n",
       "    <tr style=\"text-align: right;\">\n",
       "      <th></th>\n",
       "      <th>city_development_index</th>\n",
       "      <th>gender</th>\n",
       "      <th>relevent_experience</th>\n",
       "      <th>enrolled_university</th>\n",
       "      <th>education_level</th>\n",
       "      <th>major_discipline</th>\n",
       "      <th>experience</th>\n",
       "      <th>company_size</th>\n",
       "      <th>company_type</th>\n",
       "      <th>last_new_job</th>\n",
       "      <th>training_hours</th>\n",
       "    </tr>\n",
       "  </thead>\n",
       "  <tbody>\n",
       "    <tr>\n",
       "      <th>0</th>\n",
       "      <td>0.920</td>\n",
       "      <td>1</td>\n",
       "      <td>0</td>\n",
       "      <td>2</td>\n",
       "      <td>0</td>\n",
       "      <td>5</td>\n",
       "      <td>21</td>\n",
       "      <td>8</td>\n",
       "      <td>6</td>\n",
       "      <td>0</td>\n",
       "      <td>35</td>\n",
       "    </tr>\n",
       "    <tr>\n",
       "      <th>1</th>\n",
       "      <td>0.776</td>\n",
       "      <td>1</td>\n",
       "      <td>1</td>\n",
       "      <td>2</td>\n",
       "      <td>0</td>\n",
       "      <td>5</td>\n",
       "      <td>6</td>\n",
       "      <td>4</td>\n",
       "      <td>5</td>\n",
       "      <td>4</td>\n",
       "      <td>46</td>\n",
       "    </tr>\n",
       "    <tr>\n",
       "      <th>2</th>\n",
       "      <td>0.624</td>\n",
       "      <td>3</td>\n",
       "      <td>1</td>\n",
       "      <td>0</td>\n",
       "      <td>0</td>\n",
       "      <td>5</td>\n",
       "      <td>15</td>\n",
       "      <td>8</td>\n",
       "      <td>6</td>\n",
       "      <td>5</td>\n",
       "      <td>82</td>\n",
       "    </tr>\n",
       "    <tr>\n",
       "      <th>3</th>\n",
       "      <td>0.789</td>\n",
       "      <td>3</td>\n",
       "      <td>1</td>\n",
       "      <td>3</td>\n",
       "      <td>0</td>\n",
       "      <td>1</td>\n",
       "      <td>20</td>\n",
       "      <td>8</td>\n",
       "      <td>5</td>\n",
       "      <td>5</td>\n",
       "      <td>51</td>\n",
       "    </tr>\n",
       "    <tr>\n",
       "      <th>4</th>\n",
       "      <td>0.767</td>\n",
       "      <td>1</td>\n",
       "      <td>0</td>\n",
       "      <td>2</td>\n",
       "      <td>2</td>\n",
       "      <td>5</td>\n",
       "      <td>21</td>\n",
       "      <td>4</td>\n",
       "      <td>1</td>\n",
       "      <td>3</td>\n",
       "      <td>7</td>\n",
       "    </tr>\n",
       "  </tbody>\n",
       "</table>\n",
       "</div>"
      ],
      "text/plain": [
       "   city_development_index  gender  relevent_experience  enrolled_university  \\\n",
       "0                   0.920       1                    0                    2   \n",
       "1                   0.776       1                    1                    2   \n",
       "2                   0.624       3                    1                    0   \n",
       "3                   0.789       3                    1                    3   \n",
       "4                   0.767       1                    0                    2   \n",
       "\n",
       "   education_level  major_discipline  experience  company_size  company_type  \\\n",
       "0                0                 5          21             8             6   \n",
       "1                0                 5           6             4             5   \n",
       "2                0                 5          15             8             6   \n",
       "3                0                 1          20             8             5   \n",
       "4                2                 5          21             4             1   \n",
       "\n",
       "   last_new_job  training_hours  \n",
       "0             0              35  \n",
       "1             4              46  \n",
       "2             5              82  \n",
       "3             5              51  \n",
       "4             3               7  "
      ]
     },
     "execution_count": 51,
     "metadata": {},
     "output_type": "execute_result"
    }
   ],
   "source": [
    "X.head()"
   ]
  },
  {
   "cell_type": "code",
   "execution_count": 52,
   "id": "c65dac47",
   "metadata": {},
   "outputs": [
    {
     "data": {
      "text/plain": [
       "0.0"
      ]
     },
     "execution_count": 52,
     "metadata": {},
     "output_type": "execute_result"
    },
    {
     "data": {
      "text/plain": [
       "240.0"
      ]
     },
     "execution_count": 52,
     "metadata": {},
     "output_type": "execute_result"
    }
   ],
   "source": [
    "# Changing the datatype to float32 \n",
    "\n",
    "X.min().min()        \n",
    "X.max().max()         \n",
    "\n",
    "# Save memory\n",
    "X = X.astype('float32')\n"
   ]
  },
  {
   "cell_type": "code",
   "execution_count": 53,
   "id": "54442e4b",
   "metadata": {},
   "outputs": [],
   "source": [
    "# Store column names somewhere for use in feature importance\n",
    "\n",
    "colnames = X.columns.tolist()"
   ]
  },
  {
   "cell_type": "code",
   "execution_count": 54,
   "id": "b1facd93",
   "metadata": {},
   "outputs": [
    {
     "data": {
      "text/plain": [
       "(12452, 11)"
      ]
     },
     "execution_count": 54,
     "metadata": {},
     "output_type": "execute_result"
    },
    {
     "data": {
      "text/plain": [
       "(6706, 11)"
      ]
     },
     "execution_count": 54,
     "metadata": {},
     "output_type": "execute_result"
    },
    {
     "data": {
      "text/plain": [
       "(12452,)"
      ]
     },
     "execution_count": 54,
     "metadata": {},
     "output_type": "execute_result"
    },
    {
     "data": {
      "text/plain": [
       "(6706,)"
      ]
     },
     "execution_count": 54,
     "metadata": {},
     "output_type": "execute_result"
    }
   ],
   "source": [
    "# Split dataset into train and validation parts\n",
    "\n",
    "X_train, X_test, y_train, y_test = train_test_split(X,\n",
    "                                                    y,\n",
    "                                                    test_size=0.35,\n",
    "                                                    shuffle = True,\n",
    "                                                    stratify = y\n",
    "                                                    )\n",
    "\n",
    "\n",
    "X_train.shape       \n",
    "X_test.shape        \n",
    "y_train.shape       \n",
    "y_test.shape         "
   ]
  },
  {
   "cell_type": "markdown",
   "id": "9904e172",
   "metadata": {},
   "source": [
    "<h1>CREATING PIPELINE</h1>"
   ]
  },
  {
   "cell_type": "code",
   "execution_count": 56,
   "id": "a8915da0",
   "metadata": {},
   "outputs": [],
   "source": [
    "# Pipe using XGBoost\n",
    "\n",
    "steps_xg = [('sts', ss ),\n",
    "            ('pca', PCA()),\n",
    "            ('xg',  XGBClassifier(silent = False,\n",
    "                                  n_jobs=3)      \n",
    "            )\n",
    "            ]\n",
    "\n",
    "# Instantiate Pipeline object\n",
    "\n",
    "pipe_xg = Pipeline(steps_xg)"
   ]
  },
  {
   "cell_type": "markdown",
   "id": "0ee86d67",
   "metadata": {},
   "source": [
    "<h1>GRID SEARCH</h1>"
   ]
  },
  {
   "cell_type": "code",
   "execution_count": 57,
   "id": "8a739e1c",
   "metadata": {},
   "outputs": [
    {
     "name": "stdout",
     "output_type": "stream",
     "text": [
      "\n",
      "\n",
      "--Which parameters can be tuned?--\n",
      "\n",
      "\n"
     ]
    },
    {
     "data": {
      "text/plain": [
       "{'memory': None,\n",
       " 'steps': [('sts', StandardScaler()),\n",
       "  ('pca', PCA()),\n",
       "  ('xg',\n",
       "   XGBClassifier(base_score=None, booster=None, callbacks=None,\n",
       "                 colsample_bylevel=None, colsample_bynode=None,\n",
       "                 colsample_bytree=None, early_stopping_rounds=None,\n",
       "                 enable_categorical=False, eval_metric=None, gamma=None,\n",
       "                 gpu_id=None, grow_policy=None, importance_type=None,\n",
       "                 interaction_constraints=None, learning_rate=None, max_bin=None,\n",
       "                 max_cat_to_onehot=None, max_delta_step=None, max_depth=None,\n",
       "                 max_leaves=None, min_child_weight=None, missing=nan,\n",
       "                 monotone_constraints=None, n_estimators=100, n_jobs=3,\n",
       "                 num_parallel_tree=None, predictor=None, random_state=None,\n",
       "                 reg_alpha=None, reg_lambda=None, ...))],\n",
       " 'verbose': False,\n",
       " 'sts': StandardScaler(),\n",
       " 'pca': PCA(),\n",
       " 'xg': XGBClassifier(base_score=None, booster=None, callbacks=None,\n",
       "               colsample_bylevel=None, colsample_bynode=None,\n",
       "               colsample_bytree=None, early_stopping_rounds=None,\n",
       "               enable_categorical=False, eval_metric=None, gamma=None,\n",
       "               gpu_id=None, grow_policy=None, importance_type=None,\n",
       "               interaction_constraints=None, learning_rate=None, max_bin=None,\n",
       "               max_cat_to_onehot=None, max_delta_step=None, max_depth=None,\n",
       "               max_leaves=None, min_child_weight=None, missing=nan,\n",
       "               monotone_constraints=None, n_estimators=100, n_jobs=3,\n",
       "               num_parallel_tree=None, predictor=None, random_state=None,\n",
       "               reg_alpha=None, reg_lambda=None, ...),\n",
       " 'sts__copy': True,\n",
       " 'sts__with_mean': True,\n",
       " 'sts__with_std': True,\n",
       " 'pca__copy': True,\n",
       " 'pca__iterated_power': 'auto',\n",
       " 'pca__n_components': None,\n",
       " 'pca__random_state': None,\n",
       " 'pca__svd_solver': 'auto',\n",
       " 'pca__tol': 0.0,\n",
       " 'pca__whiten': False,\n",
       " 'xg__objective': 'binary:logistic',\n",
       " 'xg__use_label_encoder': False,\n",
       " 'xg__base_score': None,\n",
       " 'xg__booster': None,\n",
       " 'xg__callbacks': None,\n",
       " 'xg__colsample_bylevel': None,\n",
       " 'xg__colsample_bynode': None,\n",
       " 'xg__colsample_bytree': None,\n",
       " 'xg__early_stopping_rounds': None,\n",
       " 'xg__enable_categorical': False,\n",
       " 'xg__eval_metric': None,\n",
       " 'xg__gamma': None,\n",
       " 'xg__gpu_id': None,\n",
       " 'xg__grow_policy': None,\n",
       " 'xg__importance_type': None,\n",
       " 'xg__interaction_constraints': None,\n",
       " 'xg__learning_rate': None,\n",
       " 'xg__max_bin': None,\n",
       " 'xg__max_cat_to_onehot': None,\n",
       " 'xg__max_delta_step': None,\n",
       " 'xg__max_depth': None,\n",
       " 'xg__max_leaves': None,\n",
       " 'xg__min_child_weight': None,\n",
       " 'xg__missing': nan,\n",
       " 'xg__monotone_constraints': None,\n",
       " 'xg__n_estimators': 100,\n",
       " 'xg__n_jobs': 3,\n",
       " 'xg__num_parallel_tree': None,\n",
       " 'xg__predictor': None,\n",
       " 'xg__random_state': None,\n",
       " 'xg__reg_alpha': None,\n",
       " 'xg__reg_lambda': None,\n",
       " 'xg__sampling_method': None,\n",
       " 'xg__scale_pos_weight': None,\n",
       " 'xg__subsample': None,\n",
       " 'xg__tree_method': None,\n",
       " 'xg__validate_parameters': None,\n",
       " 'xg__verbosity': None,\n",
       " 'xg__silent': False}"
      ]
     },
     "execution_count": 57,
     "metadata": {},
     "output_type": "execute_result"
    }
   ],
   "source": [
    "# Parameters in the pipe that are available for tuning\n",
    "\n",
    "print(\"\\n\\n--Which parameters can be tuned?--\\n\\n\")\n",
    "pipe_xg.get_params()\n"
   ]
  },
  {
   "cell_type": "code",
   "execution_count": 58,
   "id": "47a4410a",
   "metadata": {},
   "outputs": [],
   "source": [
    "# Define dictionary\n",
    "parameters = {'xg__learning_rate':  [0.03, 0.05], # learning rate decides what percentage\n",
    "                                                  #  of error is to be fitted by\n",
    "                                                  #   by next boosted tree.\n",
    "                                                  # See this answer in stackoverflow:\n",
    "                                                  # https://stats.stackexchange.com/questions/354484/why-does-xgboost-have-a-learning-rate\n",
    "                                                  # Coefficients of boosted trees decide,\n",
    "                                                  #  in the overall model or scheme, how much importance\n",
    "                                                  #   each boosted tree shall have. Values of these\n",
    "                                                  #    Coefficients are calculated by modeling\n",
    "                                                  #     algorithm and unlike learning rate are\n",
    "                                                  #      not hyperparameters. These Coefficients\n",
    "                                                  #       get adjusted by l1 and l2 parameters\n",
    "              'xg__n_estimators':   [200,  300],  # Number of boosted trees to fit\n",
    "                                                  # l1 and l2 specifications will change\n",
    "                                                  # the values of coeff of boosted trees\n",
    "                                                  # but not their numbers\n",
    "\n",
    "              'xg__max_depth':      [4,6],\n",
    "              'pca__n_components' : [25,30],\n",
    "              'xg__booster': ['gbtree','gblinear']\n",
    "              }                               # Total: 2 * 2 * 2 * 2\n",
    "\n"
   ]
  },
  {
   "cell_type": "code",
   "execution_count": 59,
   "id": "fadcade6",
   "metadata": {},
   "outputs": [],
   "source": [
    "# Define revised dictionary\n",
    "\n",
    "parameters = {'xg__learning_rate':  [0.03, 0.05], # learning rate decides what percentage\n",
    "                                                  #  of error is to be fitted by\n",
    "                                                  #   by next boosted tree.\n",
    "                                                  # See this answer in stackoverflow:\n",
    "                                                  # https://stats.stackexchange.com/questions/354484/why-does-xgboost-have-a-learning-rate\n",
    "                                                  # Coefficients of boosted trees decide,\n",
    "                                                  #  in the overall model or scheme, how much importance\n",
    "                                                  #   each boosted tree shall have. Values of these\n",
    "                                                  #    Coefficients are calculated by modeling\n",
    "                                                  #     algorithm and unlike learning rate are\n",
    "                                                  #      not hyperparameters. These Coefficients\n",
    "                                                  #       get adjusted by l1 and l2 parameters\n",
    "               'xg__max_depth':      [4,6],\n",
    " \n",
    "              'pca__n_components' : [2,11],\n",
    "               }                               # Total: 2 * 2 * 2 * 2\n",
    "\n"
   ]
  },
  {
   "cell_type": "code",
   "execution_count": 60,
   "id": "5cb9892f",
   "metadata": {},
   "outputs": [],
   "source": [
    "clf = GridSearchCV(pipe_xg,            # pipeline object\n",
    "                   parameters,         # possible parameters\n",
    "                   n_jobs = 2,         # USe parallel cpu threads\n",
    "                   cv =2 ,             # No of folds\n",
    "                   verbose =1,         # Higher the value, more the verbosity\n",
    "                   scoring = ['accuracy', 'roc_auc'],  # Metrics for performance\n",
    "                   refit = 'roc_auc'   # Refitting final model on what parameters?\n",
    "                                       # Those which maximise auc\n",
    "                   )\n",
    "\n"
   ]
  },
  {
   "cell_type": "code",
   "execution_count": 61,
   "id": "59908237",
   "metadata": {},
   "outputs": [
    {
     "data": {
      "text/plain": [
       "140"
      ]
     },
     "execution_count": 61,
     "metadata": {},
     "output_type": "execute_result"
    }
   ],
   "source": [
    "# Delete objects not needed\n",
    "# We need X_train, y_train, X_test, y_test\n",
    "del X\n",
    "del data\n",
    "del y\n",
    "gc.collect()"
   ]
  },
  {
   "cell_type": "code",
   "execution_count": 62,
   "id": "8e4df690",
   "metadata": {},
   "outputs": [
    {
     "name": "stdout",
     "output_type": "stream",
     "text": [
      "\n",
      "\n",
      "--Takes time...---\n",
      "\n",
      "Fitting 2 folds for each of 8 candidates, totalling 16 fits\n",
      "[01:06:50] WARNING: C:/Users/Administrator/workspace/xgboost-win64_release_1.6.0/src/learner.cc:627: \n",
      "Parameters: { \"silent\" } might not be used.\n",
      "\n",
      "  This could be a false alarm, with some parameters getting used by language bindings but\n",
      "  then being mistakenly passed down to XGBoost core, or some parameter actually being used\n",
      "  but getting flagged wrongly here. Please open an issue if you find any such cases.\n",
      "\n",
      "\n"
     ]
    },
    {
     "data": {
      "text/plain": [
       "GridSearchCV(cv=2,\n",
       "             estimator=Pipeline(steps=[('sts', StandardScaler()),\n",
       "                                       ('pca', PCA()),\n",
       "                                       ('xg',\n",
       "                                        XGBClassifier(base_score=None,\n",
       "                                                      booster=None,\n",
       "                                                      callbacks=None,\n",
       "                                                      colsample_bylevel=None,\n",
       "                                                      colsample_bynode=None,\n",
       "                                                      colsample_bytree=None,\n",
       "                                                      early_stopping_rounds=None,\n",
       "                                                      enable_categorical=False,\n",
       "                                                      eval_metric=None,\n",
       "                                                      gamma=None, gpu_id=None,\n",
       "                                                      grow_policy=None,\n",
       "                                                      importance_type=None,\n",
       "                                                      intera...\n",
       "                                                      max_leaves=None,\n",
       "                                                      min_child_weight=None,\n",
       "                                                      missing=nan,\n",
       "                                                      monotone_constraints=None,\n",
       "                                                      n_estimators=100,\n",
       "                                                      n_jobs=3,\n",
       "                                                      num_parallel_tree=None,\n",
       "                                                      predictor=None,\n",
       "                                                      random_state=None,\n",
       "                                                      reg_alpha=None,\n",
       "                                                      reg_lambda=None, ...))]),\n",
       "             n_jobs=2,\n",
       "             param_grid={'pca__n_components': [2, 11],\n",
       "                         'xg__learning_rate': [0.03, 0.05],\n",
       "                         'xg__max_depth': [4, 6]},\n",
       "             refit='roc_auc', scoring=['accuracy', 'roc_auc'], verbose=1)"
      ]
     },
     "execution_count": 62,
     "metadata": {},
     "output_type": "execute_result"
    },
    {
     "name": "stdout",
     "output_type": "stream",
     "text": [
      "\n"
     ]
    },
    {
     "data": {
      "text/plain": [
       "0.09222317934036255"
      ]
     },
     "execution_count": 62,
     "metadata": {},
     "output_type": "execute_result"
    }
   ],
   "source": [
    "# Start fitting pipeline to data\n",
    "print(\"\\n\\n--Takes time...---\\n\")\n",
    "start = time.time()\n",
    "clf.fit(X_train, y_train)\n",
    "end = time.time()\n",
    "print()\n",
    "(end - start)/60               "
   ]
  },
  {
   "cell_type": "code",
   "execution_count": 63,
   "id": "df04d0b7",
   "metadata": {},
   "outputs": [
    {
     "data": {
      "text/plain": [
       "'Best score: 0.7691486020290981 '"
      ]
     },
     "execution_count": 63,
     "metadata": {},
     "output_type": "execute_result"
    },
    {
     "name": "stdout",
     "output_type": "stream",
     "text": [
      "\n"
     ]
    },
    {
     "data": {
      "text/plain": [
       "\"Best parameter set {'pca__n_components': 11, 'xg__learning_rate': 0.05, 'xg__max_depth': 4}\""
      ]
     },
     "execution_count": 63,
     "metadata": {},
     "output_type": "execute_result"
    }
   ],
   "source": [
    "# Best Score\n",
    "f\"Best score: {clf.best_score_} \"            # 'Best score: 0.7721319235599563 '\n",
    "\n",
    "# Best parameters\n",
    "print()\n",
    "f\"Best parameter set {clf.best_params_}\""
   ]
  },
  {
   "cell_type": "code",
   "execution_count": 64,
   "id": "aeb39bba",
   "metadata": {},
   "outputs": [
    {
     "name": "stdout",
     "output_type": "stream",
     "text": [
      "--Few predictions--\n",
      "\n"
     ]
    },
    {
     "data": {
      "text/plain": [
       "array([0, 0, 0, 0])"
      ]
     },
     "execution_count": 64,
     "metadata": {},
     "output_type": "execute_result"
    },
    {
     "name": "stdout",
     "output_type": "stream",
     "text": [
      "\n",
      "\n",
      "--Accuracy Score--\n",
      "\n"
     ]
    },
    {
     "data": {
      "text/plain": [
       "77.54249925439905"
      ]
     },
     "execution_count": 64,
     "metadata": {},
     "output_type": "execute_result"
    },
    {
     "name": "stdout",
     "output_type": "stream",
     "text": [
      "\n",
      "\n",
      "--Confusion Matrix--\n",
      "\n"
     ]
    },
    {
     "data": {
      "text/plain": [
       "array([[4707,  327],\n",
       "       [1179,  493]], dtype=int64)"
      ]
     },
     "execution_count": 64,
     "metadata": {},
     "output_type": "execute_result"
    },
    {
     "name": "stdout",
     "output_type": "stream",
     "text": [
      "\n",
      "\n",
      "--F1 Score pos-label: 1--\n",
      "\n"
     ]
    },
    {
     "data": {
      "text/plain": [
       "0.3956661316211878"
      ]
     },
     "execution_count": 64,
     "metadata": {},
     "output_type": "execute_result"
    },
    {
     "name": "stdout",
     "output_type": "stream",
     "text": [
      "\n",
      "\n",
      "--F1 Score pos-label: 0--\n",
      "\n"
     ]
    },
    {
     "data": {
      "text/plain": [
       "0.8620879120879121"
      ]
     },
     "execution_count": 64,
     "metadata": {},
     "output_type": "execute_result"
    },
    {
     "name": "stdout",
     "output_type": "stream",
     "text": [
      "\n",
      "\n",
      "--ROC curve--\n",
      "\n"
     ]
    },
    {
     "data": {
      "image/png": "[encoded data removed]",
      "text/plain": [
       "<Figure size 432x288 with 1 Axes>"
      ]
     },
     "metadata": {
      "needs_background": "light"
     },
     "output_type": "display_data"
    }
   ],
   "source": [
    "# Make predictions using the best returned model\n",
    "y_pred = clf.predict(X_test)\n",
    "print(\"--Few predictions--\\n\")\n",
    "y_pred[:4]\n",
    "\n",
    "# Accuracy score\n",
    "print(\"\\n\\n--Accuracy Score--\\n\")\n",
    "accuracy = accuracy_score(y_test, y_pred)\n",
    "accuracy * 100.0            \n",
    "\n",
    "# Confusion matrix\n",
    "print(\"\\n\\n--Confusion Matrix--\\n\")\n",
    "confusion_matrix( y_test,y_pred)\n",
    "\n",
    "# F1 score\n",
    "print(\"\\n\\n--F1 Score pos-label: 1--\\n\")\n",
    "f1_score(y_test,y_pred, pos_label = 1)      \n",
    "\n",
    "print(\"\\n\\n--F1 Score pos-label: 0--\\n\")\n",
    "f1_score(y_test,y_pred, pos_label = 0)     \n",
    "\n",
    "# ROC curve and get AUC\n",
    "print(\"\\n\\n--ROC curve--\\n\")\n",
    "_=plot_roc_curve(clf, X_test, y_test)"
   ]
  },
  {
   "cell_type": "code",
   "execution_count": 65,
   "id": "994b08e4",
   "metadata": {},
   "outputs": [
    {
     "name": "stdout",
     "output_type": "stream",
     "text": [
      "\n",
      "\n",
      "--How many features--\n",
      "\n"
     ]
    },
    {
     "data": {
      "text/plain": [
       "(11,)"
      ]
     },
     "execution_count": 65,
     "metadata": {},
     "output_type": "execute_result"
    },
    {
     "name": "stdout",
     "output_type": "stream",
     "text": [
      "\n",
      "\n",
      "---Feature importances---\n",
      "\n"
     ]
    },
    {
     "data": {
      "text/plain": [
       "array([0.2162006 , 0.19524767, 0.09647755, 0.05479018, 0.02968237,\n",
       "       0.05033278, 0.10659251, 0.03729194, 0.1074792 , 0.06242492,\n",
       "       0.04348035], dtype=float32)"
      ]
     },
     "execution_count": 65,
     "metadata": {},
     "output_type": "execute_result"
    }
   ],
   "source": [
    "# Get feature importances from GridSearchCV best fitted 'xg' model\n",
    "\n",
    "print(\"\\n\\n--How many features--\\n\")\n",
    "clf.best_estimator_.named_steps[\"xg\"].feature_importances_.shape\n",
    "\n",
    "print(\"\\n\\n---Feature importances---\\n\")\n",
    "clf.best_estimator_.named_steps[\"xg\"].feature_importances_"
   ]
  },
  {
   "cell_type": "code",
   "execution_count": 66,
   "id": "35f3d98a",
   "metadata": {},
   "outputs": [
    {
     "data": {
      "text/html": [
       "<div>\n",
       "<style scoped>\n",
       "    .dataframe tbody tr th:only-of-type {\n",
       "        vertical-align: middle;\n",
       "    }\n",
       "\n",
       "    .dataframe tbody tr th {\n",
       "        vertical-align: top;\n",
       "    }\n",
       "\n",
       "    .dataframe thead th {\n",
       "        text-align: right;\n",
       "    }\n",
       "</style>\n",
       "<table border=\"1\" class=\"dataframe\">\n",
       "  <thead>\n",
       "    <tr style=\"text-align: right;\">\n",
       "      <th></th>\n",
       "      <th>imp</th>\n",
       "    </tr>\n",
       "  </thead>\n",
       "  <tbody>\n",
       "    <tr>\n",
       "      <th>education_level</th>\n",
       "      <td>0.029682</td>\n",
       "    </tr>\n",
       "    <tr>\n",
       "      <th>company_size</th>\n",
       "      <td>0.037292</td>\n",
       "    </tr>\n",
       "    <tr>\n",
       "      <th>training_hours</th>\n",
       "      <td>0.043480</td>\n",
       "    </tr>\n",
       "    <tr>\n",
       "      <th>major_discipline</th>\n",
       "      <td>0.050333</td>\n",
       "    </tr>\n",
       "    <tr>\n",
       "      <th>enrolled_university</th>\n",
       "      <td>0.054790</td>\n",
       "    </tr>\n",
       "    <tr>\n",
       "      <th>last_new_job</th>\n",
       "      <td>0.062425</td>\n",
       "    </tr>\n",
       "    <tr>\n",
       "      <th>relevent_experience</th>\n",
       "      <td>0.096478</td>\n",
       "    </tr>\n",
       "    <tr>\n",
       "      <th>experience</th>\n",
       "      <td>0.106593</td>\n",
       "    </tr>\n",
       "    <tr>\n",
       "      <th>company_type</th>\n",
       "      <td>0.107479</td>\n",
       "    </tr>\n",
       "    <tr>\n",
       "      <th>gender</th>\n",
       "      <td>0.195248</td>\n",
       "    </tr>\n",
       "    <tr>\n",
       "      <th>city_development_index</th>\n",
       "      <td>0.216201</td>\n",
       "    </tr>\n",
       "  </tbody>\n",
       "</table>\n",
       "</div>"
      ],
      "text/plain": [
       "                             imp\n",
       "education_level         0.029682\n",
       "company_size            0.037292\n",
       "training_hours          0.043480\n",
       "major_discipline        0.050333\n",
       "enrolled_university     0.054790\n",
       "last_new_job            0.062425\n",
       "relevent_experience     0.096478\n",
       "experience              0.106593\n",
       "company_type            0.107479\n",
       "gender                  0.195248\n",
       "city_development_index  0.216201"
      ]
     },
     "execution_count": 66,
     "metadata": {},
     "output_type": "execute_result"
    }
   ],
   "source": [
    "# Create a dataframe of feature importances with names of columns and sorted by feature-imp\n",
    "\n",
    "imp_values = clf.best_estimator_.named_steps[\"xg\"].feature_importances_\n",
    "\n",
    "df_imp = pd.DataFrame(\n",
    "                      data = imp_values,\n",
    "                      index = colnames,\n",
    "                      columns = [\"imp\"]\n",
    "                      ).sort_values(by = 'imp')\n",
    "\n",
    "df_imp"
   ]
  },
  {
   "cell_type": "code",
   "execution_count": 67,
   "id": "61966711",
   "metadata": {},
   "outputs": [
    {
     "data": {
      "text/plain": [
       "['education_level',\n",
       " 'company_size',\n",
       " 'training_hours',\n",
       " 'major_discipline',\n",
       " 'enrolled_university']"
      ]
     },
     "execution_count": 67,
     "metadata": {},
     "output_type": "execute_result"
    }
   ],
   "source": [
    "# First five columns with least feature importance are:\n",
    "\n",
    "list(df_imp.index.values[:5])"
   ]
  },
  {
   "cell_type": "code",
   "execution_count": 68,
   "id": "8cfce6fb",
   "metadata": {},
   "outputs": [
    {
     "name": "stdout",
     "output_type": "stream",
     "text": [
      "Fitting 3 folds for each of 8 candidates, totalling 24 fits\n"
     ]
    },
    {
     "name": "stderr",
     "output_type": "stream",
     "text": [
      "C:\\ProgramData\\Anaconda3\\lib\\site-packages\\sklearn\\model_selection\\_search.py:918: UserWarning: One or more of the test scores are non-finite: [0.75666571 0.75401571 0.75690656 0.7553005         nan        nan\n",
      "        nan        nan]\n",
      "  warnings.warn(\n",
      "C:\\ProgramData\\Anaconda3\\lib\\site-packages\\sklearn\\model_selection\\_search.py:918: UserWarning: One or more of the test scores are non-finite: [0.7146458  0.72058536 0.71609131 0.72088451        nan        nan\n",
      "        nan        nan]\n",
      "  warnings.warn(\n"
     ]
    },
    {
     "name": "stdout",
     "output_type": "stream",
     "text": [
      "[01:06:52] WARNING: C:/Users/Administrator/workspace/xgboost-win64_release_1.6.0/src/learner.cc:627: \n",
      "Parameters: { \"silent\" } might not be used.\n",
      "\n",
      "  This could be a false alarm, with some parameters getting used by language bindings but\n",
      "  then being mistakenly passed down to XGBoost core, or some parameter actually being used\n",
      "  but getting flagged wrongly here. Please open an issue if you find any such cases.\n",
      "\n",
      "\n"
     ]
    },
    {
     "data": {
      "text/plain": [
       "GridSearchCV(cv=3,\n",
       "             estimator=Pipeline(steps=[('sts', StandardScaler()),\n",
       "                                       ('pca', PCA()),\n",
       "                                       ('xg',\n",
       "                                        XGBClassifier(base_score=None,\n",
       "                                                      booster=None,\n",
       "                                                      callbacks=None,\n",
       "                                                      colsample_bylevel=None,\n",
       "                                                      colsample_bynode=None,\n",
       "                                                      colsample_bytree=None,\n",
       "                                                      early_stopping_rounds=None,\n",
       "                                                      enable_categorical=False,\n",
       "                                                      eval_metric=None,\n",
       "                                                      gamma=None, gpu_id=None,\n",
       "                                                      grow_policy=None,\n",
       "                                                      importance_type=None,\n",
       "                                                      intera...\n",
       "                                                      max_leaves=None,\n",
       "                                                      min_child_weight=None,\n",
       "                                                      missing=nan,\n",
       "                                                      monotone_constraints=None,\n",
       "                                                      n_estimators=100,\n",
       "                                                      n_jobs=3,\n",
       "                                                      num_parallel_tree=None,\n",
       "                                                      predictor=None,\n",
       "                                                      random_state=None,\n",
       "                                                      reg_alpha=None,\n",
       "                                                      reg_lambda=None, ...))]),\n",
       "             n_jobs=2,\n",
       "             param_grid={'pca__n_components': [2, 11],\n",
       "                         'xg__learning_rate': [0.03, 0.05],\n",
       "                         'xg__max_depth': [4, 6]},\n",
       "             refit='roc_auc', scoring=['accuracy', 'roc_auc'], verbose=2)"
      ]
     },
     "execution_count": 68,
     "metadata": {},
     "output_type": "execute_result"
    },
    {
     "data": {
      "text/plain": [
       "0.03222217559814453"
      ]
     },
     "execution_count": 68,
     "metadata": {},
     "output_type": "execute_result"
    },
    {
     "data": {
      "text/plain": [
       "0.25885558583106266"
      ]
     },
     "execution_count": 68,
     "metadata": {},
     "output_type": "execute_result"
    },
    {
     "data": {
      "text/plain": [
       "0.8544157002676182"
      ]
     },
     "execution_count": 68,
     "metadata": {},
     "output_type": "execute_result"
    },
    {
     "data": {
      "text/plain": [
       "0.3956661316211878"
      ]
     },
     "execution_count": 68,
     "metadata": {},
     "output_type": "execute_result"
    },
    {
     "data": {
      "text/plain": [
       "0.8620879120879121"
      ]
     },
     "execution_count": 68,
     "metadata": {},
     "output_type": "execute_result"
    }
   ],
   "source": [
    "# Let us drop these from X_train and X_test\n",
    "Xtrain = X_train.drop(columns = list(df_imp.index.values[:5]))\n",
    "Xtest = X_test.drop(columns = list(df_imp.index.values[:5]))\n",
    "\n",
    "# Build model again with reduced dataset\n",
    "clf_dr = GridSearchCV(pipe_xg,            # pipeline object\n",
    "                      parameters,         # possible parameters\n",
    "                      n_jobs = 2,         # USe parallel cpu threads\n",
    "                      cv =3 ,             # No of folds\n",
    "                      verbose =2,         # Higher the value, more the verbosity\n",
    "                      scoring = ['accuracy', 'roc_auc'],  # Metrics for performance\n",
    "                      refit = 'roc_auc'   # Refitting final model on what parameters?\n",
    "                                       # Those which maximise auc\n",
    "                     )\n",
    "\n",
    "\n",
    "start = time.time()\n",
    "clf_dr.fit(Xtrain, y_train)\n",
    "end = time.time()\n",
    "(end - start)/60               \n",
    "\n",
    "# Make predictions\n",
    "y_pred_dr = clf_dr.predict(Xtest)\n",
    "\n",
    "# Compare results.\n",
    "f1_score(y_test,y_pred_dr, pos_label = 1)      \n",
    "f1_score(y_test,y_pred_dr, pos_label = 0)      \n",
    "f1_score(y_test,y_pred, pos_label = 1)      \n",
    "f1_score(y_test,y_pred, pos_label = 0)      "
   ]
  },
  {
   "cell_type": "markdown",
   "id": "f1ca67bd",
   "metadata": {},
   "source": [
    "<h1>RANDOMIZED SEARCH</h1>"
   ]
  },
  {
   "cell_type": "code",
   "execution_count": 69,
   "id": "e0763521",
   "metadata": {},
   "outputs": [],
   "source": [
    "# Tune parameters using randomized search\n",
    "# Hyperparameters to tune and their ranges\n",
    "parameters = {'xg__learning_rate':  uniform(0, 1),\n",
    "              'xg__n_estimators':   range(50,300),\n",
    "              'xg__max_depth':      range(3,10),\n",
    "              'pca__n_components' : range(2,11)}"
   ]
  },
  {
   "cell_type": "code",
   "execution_count": 70,
   "id": "56c1478c",
   "metadata": {},
   "outputs": [],
   "source": [
    "# Tune parameters using random search\n",
    "# Create the object first\n",
    "\n",
    "rs = RandomizedSearchCV(\n",
    "                          pipe_xg,\n",
    "                          param_distributions=parameters,\n",
    "                          scoring= ['roc_auc', 'accuracy'],\n",
    "                          n_iter=4,           \n",
    "                                              \n",
    "                          verbose = 1,\n",
    "                          refit = 'roc_auc',\n",
    "                          n_jobs = 2,          \n",
    "                          cv = 2               \n",
    "                        )\n"
   ]
  },
  {
   "cell_type": "code",
   "execution_count": 71,
   "id": "458778c9",
   "metadata": {},
   "outputs": [
    {
     "name": "stdout",
     "output_type": "stream",
     "text": [
      "Fitting 2 folds for each of 4 candidates, totalling 8 fits\n",
      "[01:06:55] WARNING: C:/Users/Administrator/workspace/xgboost-win64_release_1.6.0/src/learner.cc:627: \n",
      "Parameters: { \"silent\" } might not be used.\n",
      "\n",
      "  This could be a false alarm, with some parameters getting used by language bindings but\n",
      "  then being mistakenly passed down to XGBoost core, or some parameter actually being used\n",
      "  but getting flagged wrongly here. Please open an issue if you find any such cases.\n",
      "\n",
      "\n"
     ]
    },
    {
     "data": {
      "text/plain": [
       "RandomizedSearchCV(cv=2,\n",
       "                   estimator=Pipeline(steps=[('sts', StandardScaler()),\n",
       "                                             ('pca', PCA()),\n",
       "                                             ('xg',\n",
       "                                              XGBClassifier(base_score=None,\n",
       "                                                            booster=None,\n",
       "                                                            callbacks=None,\n",
       "                                                            colsample_bylevel=None,\n",
       "                                                            colsample_bynode=None,\n",
       "                                                            colsample_bytree=None,\n",
       "                                                            early_stopping_rounds=None,\n",
       "                                                            enable_categorical=False,\n",
       "                                                            eval_metric=None,\n",
       "                                                            gamma=None,\n",
       "                                                            gpu_id=None,\n",
       "                                                            grow_policy=None,\n",
       "                                                            importance_type=None,...\n",
       "                                                            predictor=None,\n",
       "                                                            random_state=None,\n",
       "                                                            reg_alpha=None,\n",
       "                                                            reg_lambda=None, ...))]),\n",
       "                   n_iter=4, n_jobs=2,\n",
       "                   param_distributions={'pca__n_components': range(2, 11),\n",
       "                                        'xg__learning_rate': <scipy.stats._distn_infrastructure.rv_frozen object at 0x000001D4C1A0F520>,\n",
       "                                        'xg__max_depth': range(3, 10),\n",
       "                                        'xg__n_estimators': range(50, 300)},\n",
       "                   refit='roc_auc', scoring=['roc_auc', 'accuracy'], verbose=1)"
      ]
     },
     "execution_count": 71,
     "metadata": {},
     "output_type": "execute_result"
    },
    {
     "name": "stdout",
     "output_type": "stream",
     "text": [
      "\n"
     ]
    },
    {
     "data": {
      "text/plain": [
       "0.04350915352503459"
      ]
     },
     "execution_count": 71,
     "metadata": {},
     "output_type": "execute_result"
    }
   ],
   "source": [
    "# Run random search for 25 iterations\n",
    "\n",
    "start = time.time()\n",
    "rs.fit(X_train, y_train)\n",
    "end = time.time()\n",
    "print()\n",
    "(end - start)/60  "
   ]
  },
  {
   "cell_type": "code",
   "execution_count": 72,
   "id": "8c237c1b",
   "metadata": {},
   "outputs": [
    {
     "data": {
      "text/plain": [
       "'Best score: 0.7152198014273548 '"
      ]
     },
     "execution_count": 72,
     "metadata": {},
     "output_type": "execute_result"
    },
    {
     "name": "stdout",
     "output_type": "stream",
     "text": [
      "\n"
     ]
    },
    {
     "data": {
      "text/plain": [
       "\"Best parameter set: {'pca__n_components': 3, 'xg__learning_rate': 0.2361314733427654, 'xg__max_depth': 4, 'xg__n_estimators': 180} \""
      ]
     },
     "execution_count": 72,
     "metadata": {},
     "output_type": "execute_result"
    },
    {
     "name": "stdout",
     "output_type": "stream",
     "text": [
      "\n"
     ]
    },
    {
     "data": {
      "text/plain": [
       "'Accuracy: 75.39516850581569'"
      ]
     },
     "execution_count": 72,
     "metadata": {},
     "output_type": "execute_result"
    },
    {
     "name": "stdout",
     "output_type": "stream",
     "text": [
      "\n"
     ]
    },
    {
     "data": {
      "text/plain": [
       "'f1 score: 0.29245283018867924'"
      ]
     },
     "execution_count": 72,
     "metadata": {},
     "output_type": "execute_result"
    },
    {
     "name": "stdout",
     "output_type": "stream",
     "text": [
      "\n"
     ]
    }
   ],
   "source": [
    "# Evaluate\n",
    "f\"Best score: {rs.best_score_} \" ;print()           \n",
    "f\"Best parameter set: {rs.best_params_} \" ; print()\n",
    "\n",
    "\n",
    "# Make predictions from the best returned model\n",
    "y_pred = rs.predict(X_test)\n",
    "\n",
    "\n",
    "# Accuracy and f1_score\n",
    "accuracy = accuracy_score(y_test, y_pred)\n",
    "f\"Accuracy: {accuracy * 100.0}\"   ; print()     \n",
    "f\"f1 score: {f1_score(y_test,y_pred, pos_label = 1)}\" ; print()     \n"
   ]
  }
 ],
 "metadata": {
  "kernelspec": {
   "display_name": "Python 3",
   "language": "python",
   "name": "python3"
  },
  "language_info": {
   "codemirror_mode": {
    "name": "ipython",
    "version": 3
   },
   "file_extension": ".py",
   "mimetype": "text/x-python",
   "name": "python",
   "nbconvert_exporter": "python",
   "pygments_lexer": "ipython3",
   "version": "3.8.8"
  }
 },
 "nbformat": 4,
 "nbformat_minor": 5
}
